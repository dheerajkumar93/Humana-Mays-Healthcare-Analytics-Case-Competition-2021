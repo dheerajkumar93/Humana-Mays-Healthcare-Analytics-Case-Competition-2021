{
  "nbformat": 4,
  "nbformat_minor": 0,
  "metadata": {
    "colab": {
      "name": "Humana_Mays_Case_Competition_2021.ipynb",
      "provenance": [],
      "collapsed_sections": []
    },
    "kernelspec": {
      "name": "python3",
      "display_name": "Python 3"
    },
    "language_info": {
      "name": "python"
    }
  },
  "cells": [
    {
      "cell_type": "markdown",
      "metadata": {
        "id": "t1TJa2ecHNo1"
      },
      "source": [
        "# Data Reading"
      ]
    },
    {
      "cell_type": "code",
      "metadata": {
        "id": "lmENv9LdHC-n"
      },
      "source": [
        "#import libraries\n",
        "import pandas as pd\n",
        "import numpy as np\n",
        "import seaborn as sns\n",
        "import matplotlib.pyplot as plt\n",
        "import matplotlib.ticker as mtick\n",
        "%matplotlib inline\n",
        "pd.set_option('display.max_columns', None)\n",
        "pd.set_option('display.max_rows', None)\n",
        "pd.set_option('display.width', None)\n",
        "pd.option_context('display.max_colwidth', None)\n",
        "pd.set_option('display.max_colwidth', None)\n",
        "from sklearn.preprocessing import normalize"
      ],
      "execution_count": null,
      "outputs": []
    },
    {
      "cell_type": "code",
      "metadata": {
        "colab": {
          "base_uri": "https://localhost:8080/"
        },
        "id": "OR8uH9WJHjGF",
        "outputId": "271a5d70-b2df-4150-b5bb-1feff4ba4bfc"
      },
      "source": [
        "#importing the training dataset \n",
        "\n",
        "humana_data = pd.read_csv(\".../2021_Competition_Training.csv\")\n"
      ],
      "execution_count": null,
      "outputs": [
        {
          "output_type": "stream",
          "name": "stderr",
          "text": [
            "/usr/local/lib/python3.7/dist-packages/IPython/core/interactiveshell.py:2718: DtypeWarning: Columns (2,8,9,11,13,16,20,26,28,29,31,33,51,55,58,62,64,66,68,75,85,102,124,127,131,132,135,160,174,180,187,192,202,209,210,211,215,220,230,234,240,243,247,251,255,261,285,293,297,300,305,306,309,323,334,344,345,352,353,355,359) have mixed types.Specify dtype option on import or set low_memory=False.\n",
            "  interactivity=interactivity, compiler=compiler, result=result)\n"
          ]
        }
      ]
    },
    {
      "cell_type": "code",
      "metadata": {
        "colab": {
          "base_uri": "https://localhost:8080/"
        },
        "id": "2nxJZzXeHJiP",
        "outputId": "aab72ff4-421d-4b61-bf61-adc55b22f578"
      },
      "source": [
        "#importing the test dataset \n",
        "\n",
        "humana_data_test = pd.read_csv(\".../2021_Competition_Holdout.csv\")"
      ],
      "execution_count": null,
      "outputs": [
        {
          "output_type": "stream",
          "name": "stderr",
          "text": [
            "/usr/local/lib/python3.7/dist-packages/IPython/core/interactiveshell.py:2718: DtypeWarning: Columns (2,8,9,11,13,16,20,26,28,29,31,33,51,55,58,62,64,66,75,82,85,102,124,131,132,135,159,173,179,191,208,209,210,219,233,239,246,254,260,284,287,292,296,304,305,307,308,322,333,343,344,349,351,352,354) have mixed types.Specify dtype option on import or set low_memory=False.\n",
            "  interactivity=interactivity, compiler=compiler, result=result)\n"
          ]
        }
      ]
    },
    {
      "cell_type": "markdown",
      "metadata": {
        "id": "pIrfvfKQIb70"
      },
      "source": [
        "# EDA"
      ]
    },
    {
      "cell_type": "code",
      "metadata": {
        "colab": {
          "base_uri": "https://localhost:8080/"
        },
        "id": "L16rkAbmIqlG",
        "outputId": "0cdd0282-353a-4f78-82c6-3082bb27a838"
      },
      "source": [
        "# checking shape of training data\n",
        "\n",
        "humana_data.shape"
      ],
      "execution_count": null,
      "outputs": [
        {
          "output_type": "execute_result",
          "data": {
            "text/plain": [
              "(974842, 368)"
            ]
          },
          "metadata": {},
          "execution_count": 5
        }
      ]
    },
    {
      "cell_type": "code",
      "metadata": {
        "colab": {
          "base_uri": "https://localhost:8080/"
        },
        "id": "_MBoiHLfIvx0",
        "outputId": "6a50d332-6284-4418-f2a3-2e6a7ccbb3d7"
      },
      "source": [
        "# checking shapee of training data\n",
        "\n",
        "humana_data_test.shape"
      ],
      "execution_count": null,
      "outputs": [
        {
          "output_type": "execute_result",
          "data": {
            "text/plain": [
              "(525158, 367)"
            ]
          },
          "metadata": {},
          "execution_count": 6
        }
      ]
    },
    {
      "cell_type": "code",
      "metadata": {
        "colab": {
          "base_uri": "https://localhost:8080/"
        },
        "id": "Bp6AiUMWHJnR",
        "outputId": "90dca85e-577f-444e-ce08-6823500025dc"
      },
      "source": [
        "# checking null values in Training dataset\n",
        "\n",
        "humana_data.isnull().sum()"
      ],
      "execution_count": null,
      "outputs": [
        {
          "output_type": "execute_result",
          "data": {
            "text/plain": [
              "Unnamed: 0                                                    0\n",
              "ID                                                            0\n",
              "auth_3mth_post_acute_dia                                      0\n",
              "rx_gpi2_72_pmpm_cost_6to9m_b4                                 0\n",
              "atlas_pct_laccess_child15                                  6283\n",
              "atlas_recfacpth14                                          4911\n",
              "atlas_pct_fmrkt_frveg16                                   89714\n",
              "atlas_pct_free_lunch14                                    60436\n",
              "bh_ip_snf_net_paid_pmpm_cost_9to12m_b4                   157747\n",
              "auth_3mth_acute_ckd                                           0\n",
              "bh_ncal_pmpm_ct                                               0\n",
              "src_div_id                                                    0\n",
              "total_bh_copay_pmpm_cost_t_9-6-3m_b4                          0\n",
              "bh_ip_snf_net_paid_pmpm_cost_3to6m_b4                     36237\n",
              "cons_chmi                                                200128\n",
              "mcc_ano_pmpm_ct_t_9-6-3m_b4                                   0\n",
              "auth_3mth_post_acute_trm                                      0\n",
              "rx_maint_pmpm_cost_t_12-9-6m_b4                               0\n",
              "auth_3mth_post_acute_rsk                                      0\n",
              "cons_ltmedicr                                            312900\n",
              "rx_gpi4_6110_pmpm_ct                                          0\n",
              "atlas_pc_snapben15                                        12381\n",
              "credit_bal_nonmtgcredit_60dpd                              4623\n",
              "rx_bh_mbr_resp_pmpm_cost_9to12m_b4                            0\n",
              "rx_nonbh_pmpm_cost_t_9-6-3m_b4                                0\n",
              "atlas_pct_laccess_nhna15                                   5652\n",
              "auth_3mth_acute_vco                                           0\n",
              "credit_hh_nonmtgcredit_60dpd                               4622\n",
              "rx_bh_pmpm_ct_0to3m_b4                                        0\n",
              "auth_3mth_dc_ltac                                             0\n",
              "cons_lwcm10                                              199732\n",
              "auth_3mth_post_acute_inj                                      0\n",
              "atlas_fsrpth14                                             4636\n",
              "auth_3mth_dc_home                                             0\n",
              "atlas_wicspth12                                            4638\n",
              "rx_gpi2_17_pmpm_cost_t_12-9-6m_b4                             0\n",
              "cons_hxmioc                                              199572\n",
              "rx_generic_pmpm_cost_t_6-3-0m_b4                              0\n",
              "cmsd2_sns_digest_abdomen_pmpm_ct                              0\n",
              "atlas_ghveg_farms12                                       11153\n",
              "credit_hh_bankcardcredit_60dpd                             4622\n",
              "total_outpatient_allowed_pmpm_cost_6to9m_b4               58918\n",
              "cons_cwht                                                199683\n",
              "atlas_netmigrationrate1016                                 4620\n",
              "atlas_pct_laccess_snap15                                   5511\n",
              "bh_ncdm_ind                                                   0\n",
              "rx_nonmaint_mbr_resp_pmpm_cost_9to12m_b4                      0\n",
              "atlas_retirement_destination_2015_upda                     4722\n",
              "rx_overall_mbr_resp_pmpm_cost_t_6-3-0m_b4                     0\n",
              "atlas_naturalchangerate1016                                4622\n",
              "ccsp_236_pct                                                  0\n",
              "bh_ip_snf_mbr_resp_pmpm_cost_6to9m_b4                     58958\n",
              "rx_overall_dist_gpi6_pmpm_ct_t_6-3-0m_b4                      0\n",
              "auth_3mth_post_acute_ben                                      0\n",
              "atlas_pct_laccess_hisp15                                   5472\n",
              "auth_3mth_dc_no_ref                                           0\n",
              "rx_overall_mbr_resp_pmpm_cost                                 0\n",
              "rx_overall_gpi_pmpm_ct_0to3m_b4                               0\n",
              "auth_3mth_dc_snf                                              0\n",
              "rx_phar_cat_humana_pmpm_ct_t_9-6-3m_b4                        0\n",
              "atlas_pct_laccess_hhnv15                                   4634\n",
              "auth_3mth_acute_ccs_048                                       0\n",
              "bh_ip_snf_net_paid_pmpm_cost_0to3m_b4                         0\n",
              "auth_3mth_acute_end                                           0\n",
              "auth_3mth_psychic                                             0\n",
              "atlas_hiamenity                                            5700\n",
              "auth_3mth_bh_acute                                            0\n",
              "credit_bal_consumerfinance                                 4622\n",
              "auth_3mth_acute_chf                                           0\n",
              "rx_overall_gpi_pmpm_ct_t_6-3-0m_b4                            0\n",
              "rwjf_uninsured_pct                                         4658\n",
              "mcc_chf_pmpm_ct_t_9-6-3m_b4                                   0\n",
              "rx_mail_mbr_resp_pmpm_cost_0to3m_b4                           0\n",
              "bh_urgent_care_copay_pmpm_cost_t_12-9-6m_b4                   0\n",
              "auth_3mth_hospice                                             0\n",
              "auth_3mth_acute_bld                                           0\n",
              "atlas_pct_wic15                                            4628\n",
              "ccsp_193_pct                                                  0\n",
              "auth_3mth_dc_hospice                                          0\n",
              "auth_3mth_acute_ccs_030                                       0\n",
              "atlas_pct_fmrkt_baked16                                   89923\n",
              "rx_nonmaint_mbr_resp_pmpm_cost                                0\n",
              "auth_3mth_acute_skn                                           0\n",
              "atlas_veg_farms12                                          7365\n",
              "atlas_vlfoodsec_13_15                                      4638\n",
              "rx_gpi2_34_dist_gpi6_pmpm_ct                                  0\n",
              "bh_ip_snf_net_paid_pmpm_cost                                  0\n",
              "credit_hh_bankcard_severederog                             4621\n",
              "rx_hum_16_pmpm_ct                                             0\n",
              "est_age                                                       0\n",
              "rx_maint_pmpm_cost_t_6-3-0m_b4                                0\n",
              "cnt_cp_webstatement_pmpm_ct                                   0\n",
              "atlas_pct_laccess_seniors15                                5484\n",
              "phy_em_px_pct                                                 0\n",
              "atlas_percapitainc                                            0\n",
              "rwjf_uninsured_adults_pct                                  4634\n",
              "rx_generic_mbr_resp_pmpm_cost_0to3m_b4                        0\n",
              "auth_3mth_acute_neo                                           0\n",
              "rwjf_air_pollute_density                                   5703\n",
              "rx_gpi2_02_pmpm_cost                                          0\n",
              "atlas_recfac14                                             4625\n",
              "cons_mobplus                                             199568\n",
              "lab_albumin_loinc_pmpm_ct                                     0\n",
              "atlas_pct_obese_adults13                                   4626\n",
              "rx_maint_net_paid_pmpm_cost_t_12-9-6m_b4                      0\n",
              "rev_pm_obsrm_pmpm_ct                                          0\n",
              "atlas_pct_sfsp15                                           4632\n",
              "total_physician_office_net_paid_pmpm_cost_9to12m_b4      158013\n",
              "atlas_pc_dirsales12                                       10322\n",
              "med_ip_snf_admit_days_pmpm                                    0\n",
              "rej_med_outpatient_visit_ct_pmpm_t_6-3-0m_b4                  0\n",
              "auth_3mth_post_acute_vco                                      0\n",
              "cms_tot_partd_payment_amt                                 35015\n",
              "rx_nonotc_dist_gpi6_pmpm_ct                                   0\n",
              "rx_nonmaint_pmpm_ct                                           0\n",
              "rx_nonbh_mbr_resp_pmpm_cost_6to9m_b4                          0\n",
              "cons_stlnindx                                            199610\n",
              "atlas_hipov_1115                                             35\n",
              "auth_3mth_post_acute_dig                                      0\n",
              "rx_nonbh_mbr_resp_pmpm_cost                                   0\n",
              "atlas_redemp_snaps16                                       6119\n",
              "atlas_berry_farms12                                        7462\n",
              "rej_med_ip_snf_coins_pmpm_cost_t_9-6-3m_b4                    0\n",
              "rwjf_inactivity_pct                                        4629\n",
              "rx_gpi2_72_pmpm_ct_6to9m_b4                                   0\n",
              "cons_n2pmr                                               199632\n",
              "med_physician_office_allowed_pmpm_cost_t_9-6-3m_b4            0\n",
              "auth_3mth_acute_res                                           0\n",
              "rev_cms_ct_pmpm_ct                                            0\n",
              "atlas_foodhub16                                            4666\n",
              "total_physician_office_copay_pmpm_cost                        0\n",
              "auth_3mth_acute_dig                                           0\n",
              "auth_3mth_dc_acute_rehab                                      0\n",
              "atlas_pct_fmrkt_anmlprod16                                89864\n",
              "auth_3mth_post_acute_hdz                                      0\n",
              "bh_ip_snf_mbr_resp_pmpm_cost_3to6m_b4                     36294\n",
              "auth_3mth_acute_ccs_172                                       0\n",
              "credit_num_agencyfirstmtg                                  4622\n",
              "total_physician_office_net_paid_pmpm_cost_t_9-6-3m_b4         0\n",
              "auth_3mth_acute_ccs_154                                       0\n",
              "atlas_type_2015_mining_no                                  4623\n",
              "atlas_agritrsm_rct12                                     239592\n",
              "rx_days_since_last_script                                     0\n",
              "atlas_pct_laccess_pop15                                    5434\n",
              "auth_3mth_post_acute_res                                      0\n",
              "auth_3mth_acute_inf                                           0\n",
              "rx_gpi2_01_pmpm_cost_0to3m_b4                                 0\n",
              "atlas_povertyallagespct                                    4620\n",
              "covid_vaccination                                             0\n",
              "rwjf_uninsured_child_pct                                   4629\n",
              "rx_branded_pmpm_ct_t_6-3-0m_b4                                0\n",
              "med_outpatient_deduct_pmpm_cost_t_9-6-3m_b4                   0\n",
              "credit_bal_mtgcredit_new                                   4622\n",
              "atlas_low_employment_2015_update                           4656\n",
              "atlas_pct_diabetes_adults13                                4626\n",
              "atlas_pct_laccess_nhasian15                                5447\n",
              "atlas_deep_pov_all                                            0\n",
              "atlas_net_international_migration_rate                     4618\n",
              "atlas_deep_pov_children                                       0\n",
              "bh_ncdm_pct                                                   0\n",
              "auth_3mth_non_er                                              0\n",
              "atlas_foodinsec_child_03_11                                4654\n",
              "rx_branded_mbr_resp_pmpm_cost                                 0\n",
              "atlas_pc_wic_redemp12                                    117423\n",
              "rwjf_mv_deaths_rate                                       10911\n",
              "auth_3mth_acute_cad                                           0\n",
              "atlas_pct_reduced_lunch14                                 57420\n",
              "cons_nwperadult                                          199619\n",
              "total_allowed_pmpm_cost_t_9-6-3m_b4                           0\n",
              "rx_hum_28_pmpm_cost                                           0\n",
              "mabh_seg                                                 632924\n",
              "cms_orig_reas_entitle_cd                                  34643\n",
              "atlas_totalocchu                                              0\n",
              "med_physician_office_ds_clm_6to9m_b4                          0\n",
              "bh_ip_snf_mbr_resp_pmpm_cost_9to12m_b4                   158020\n",
              "atlas_pct_loclfarm12                                       7253\n",
              "rx_generic_mbr_resp_pmpm_cost                                 0\n",
              "total_outpatient_mbr_resp_pmpm_cost_6to9m_b4              58967\n",
              "auth_3mth_post_acute_cir                                      0\n",
              "rx_gpi4_3400_pmpm_ct                                          0\n",
              "auth_3mth_post_acute_cer                                      0\n",
              "lab_dist_loinc_pmpm_ct                                        0\n",
              "atlas_pct_nslp15                                           4626\n",
              "rx_generic_pmpm_ct_0to3m_b4                                   0\n",
              "oontwk_mbr_resp_pmpm_cost_t_6-3-0m_b4                         0\n",
              "atlas_pct_laccess_lowi15                                   5409\n",
              "bh_ncal_ind                                                   0\n",
              "auth_3mth_post_acute_mus                                      0\n",
              "atlas_pct_fmrkt_sfmnp16                                   89862\n",
              "hum_region                                                    0\n",
              "rx_nonmail_dist_gpi6_pmpm_ct_t_9-6-3m_b4                      0\n",
              "atlas_pct_loclsale12                                      14827\n",
              "bh_ip_snf_net_paid_pmpm_cost_6to9m_b4                     58980\n",
              "rej_med_er_net_paid_pmpm_cost_t_9-6-3m_b4                     0\n",
              "credit_bal_autobank                                        4621\n",
              "med_outpatient_mbr_resp_pmpm_cost_t_9-6-3m_b4                 0\n",
              "rx_overall_mbr_resp_pmpm_cost_0to3m_b4                        0\n",
              "rx_tier_2_pmpm_ct_3to6m_b4                                    0\n",
              "rx_nonbh_net_paid_pmpm_cost                                   0\n",
              "rx_maint_pmpm_ct_9to12m_b4                                    0\n",
              "rx_nonbh_net_paid_pmpm_cost_t_6-3-0m_b4                       0\n",
              "atlas_type_2015_recreation_no                              4629\n",
              "auth_3mth_post_acute_sns                                      0\n",
              "rx_gpi2_39_pmpm_cost_t_6-3-0m_b4                              0\n",
              "atlas_type_2015_update                                     4622\n",
              "cms_risk_adjustment_factor_a_amt                          34676\n",
              "total_ip_maternity_net_paid_pmpm_cost_t_12-9-6m_b4            0\n",
              "rx_generic_pmpm_cost                                          0\n",
              "cmsd2_eye_retina_pmpm_ct                                      0\n",
              "auth_3mth_acute_can                                           0\n",
              "auth_3mth_post_acute                                          0\n",
              "auth_3mth_facility                                            0\n",
              "rx_days_since_last_script_0to3m_b4                            0\n",
              "atlas_population_loss_2015_update                          4678\n",
              "rx_maint_pmpm_ct_t_6-3-0m_b4                                  0\n",
              "auth_3mth_post_acute_men                                      0\n",
              "auth_3mth_acute_mean_los                                      0\n",
              "credit_num_autofinance                                     4621\n",
              "cons_rxmaint                                             199584\n",
              "rx_mail_net_paid_pmpm_cost_t_6-3-0m_b4                        0\n",
              "auth_3mth_home                                                0\n",
              "rx_maint_mbr_resp_pmpm_cost_6to9m_b4                          0\n",
              "cons_hxwearbl                                            199613\n",
              "total_physician_office_mbr_resp_pmpm_cost_t_9-6-3m_b4         0\n",
              "atlas_pct_laccess_black15                                  5414\n",
              "atlas_hh65plusalonepct                                        0\n",
              "atlas_farm_to_school13                                    16577\n",
              "auth_3mth_acute_inj                                           0\n",
              "auth_3mth_acute_ccs_153                                       0\n",
              "rej_days_since_last_clm                                       0\n",
              "auth_3mth_transplant                                          0\n",
              "bh_outpatient_net_paid_pmpm_cost                              0\n",
              "atlas_dirsales_farms12                                     7377\n",
              "rx_generic_pmpm_cost_6to9m_b4                                 0\n",
              "rev_cms_ansth_pmpm_ct                                         0\n",
              "atlas_convspth14                                           4629\n",
              "total_med_allowed_pmpm_cost_9to12m_b4                    158080\n",
              "rx_mail_mbr_resp_pmpm_cost_t_9-6-3m_b4                        0\n",
              "med_outpatient_visit_ct_pmpm_t_12-9-6m_b4                     0\n",
              "rx_nonbh_pmpm_ct_t_9-6-3m_b4                                  0\n",
              "auth_3mth_acute                                               0\n",
              "rx_nonbh_pmpm_ct_0to3m_b4                                     0\n",
              "atlas_pc_ffrsales12                                        4625\n",
              "auth_3mth_dc_left_ama                                         0\n",
              "credit_bal_bankcard_severederog                            4620\n",
              "atlas_povertyunder18pct                                    4620\n",
              "rx_tier_1_pmpm_ct_0to3m_b4                                    0\n",
              "auth_3mth_acute_ccs_227                                       0\n",
              "cons_estinv30_rc                                         199620\n",
              "auth_3mth_bh_acute_men                                        0\n",
              "rx_gpi2_34_pmpm_ct                                            0\n",
              "auth_3mth_dc_custodial                                        0\n",
              "atlas_veg_acrespth12                                      59348\n",
              "atlas_grocpth14                                            4628\n",
              "total_med_net_paid_pmpm_cost_t_6-3-0m_b4                      0\n",
              "rx_gpi2_90_dist_gpi6_pmpm_ct_9to12m_b4                        0\n",
              "atlas_csa12                                                7759\n",
              "sex_cd                                                        0\n",
              "rx_gpi2_62_pmpm_cost_t_9-6-3m_b4                              0\n",
              "lang_spoken_cd                                           723116\n",
              "rx_overall_gpi_pmpm_ct_t_12-9-6m_b4                           0\n",
              "auth_3mth_ltac                                                0\n",
              "cons_hhcomp                                              199621\n",
              "auth_3mth_acute_hdz                                           0\n",
              "cons_rxadhs                                              199605\n",
              "auth_3mth_acute_men                                           0\n",
              "atlas_pct_fmrkt_snap16                                    89845\n",
              "met_obe_diag_pct                                              0\n",
              "cms_partd_ra_factor_amt                                   34664\n",
              "atlas_pct_sbp15                                            4627\n",
              "rwjf_resident_seg_black_inx                               77803\n",
              "atlas_pct_cacfp15                                          4631\n",
              "auth_3mth_rehab                                               0\n",
              "pdc_lip                                                       0\n",
              "atlas_ffrpth14                                             4630\n",
              "credit_num_autobank_new                                    4621\n",
              "auth_3mth_acute_ccs_086                                       0\n",
              "rx_tier_2_pmpm_ct                                             0\n",
              "cons_n2pwh                                               199600\n",
              "rx_nonmaint_dist_gpi6_pmpm_ct_t_12-9-6m_b4                    0\n",
              "atlas_berry_acrespth12                                   252295\n",
              "atlas_pct_fmrkt_credit16                                  89802\n",
              "atlas_slhouse12                                            4643\n",
              "atlas_pc_fsrsales12                                        4627\n",
              "credit_hh_1stmtgcredit                                     4622\n",
              "auth_3mth_snf_post_hsp                                        0\n",
              "atlas_pct_fmrkt_wiccash16                                 89854\n",
              "atlas_foodinsec_13_15                                      4642\n",
              "auth_3mth_acute_cer                                           0\n",
              "cons_rxadhm                                              199626\n",
              "atlas_fmrktpth16                                           4625\n",
              "rx_nonotc_pmpm_cost_t_6-3-0m_b4                               0\n",
              "cci_dia_m_pmpm_ct                                             0\n",
              "auth_3mth_acute_trm                                           0\n",
              "cons_n2phi                                               199615\n",
              "bh_physician_office_copay_pmpm_cost_6to9m_b4              58981\n",
              "rwjf_income_inequ_ratio                                    4625\n",
              "rej_total_physician_office_visit_ct_pmpm_0to3m_b4             0\n",
              "auth_3mth_acute_dia                                           0\n",
              "credit_num_nonmtgcredit_60dpd                              4621\n",
              "auth_3mth_snf_direct                                          0\n",
              "credit_bal_autofinance_new                                 4621\n",
              "auth_3mth_acute_ccs_067                                       0\n",
              "auth_3mth_acute_ccs_043                                       0\n",
              "rwjf_men_hlth_prov_ratio                                   6532\n",
              "auth_3mth_dc_home_health                                      0\n",
              "rx_gpi2_56_dist_gpi6_pmpm_ct_3to6m_b4                         0\n",
              "cmsd2_sns_genitourinary_pmpm_ct                               0\n",
              "auth_3mth_acute_cir                                           0\n",
              "auth_3mth_acute_ner                                           0\n",
              "auth_3mth_acute_ccs_094                                       0\n",
              "med_ambulance_coins_pmpm_cost_t_9-6-3m_b4                     0\n",
              "hedis_dia_hba1c_ge9                                      312228\n",
              "bh_ncal_pct                                                   0\n",
              "atlas_pct_snap16                                           4627\n",
              "ccsp_227_pct                                                  0\n",
              "atlas_ghveg_sqftpth12                                    260519\n",
              "rx_days_since_last_script_6to9m_b4                            0\n",
              "atlas_orchard_acrespth12                                  69208\n",
              "atlas_persistentchildpoverty_1980_2011                     4676\n",
              "auth_3mth_post_acute_cad                                      0\n",
              "atlas_pct_laccess_multir15                                 5359\n",
              "cons_cgqs                                                199629\n",
              "ccsp_065_pmpm_ct                                              0\n",
              "auth_3mth_acute_ccs_044                                       0\n",
              "atlas_medhhinc                                             4620\n",
              "rx_maint_net_paid_pmpm_cost_t_9-6-3m_b4                       0\n",
              "rwjf_mental_distress_pct                                   4627\n",
              "bh_ip_snf_admit_days_pmpm_t_9-6-3m_b4                         0\n",
              "rx_phar_cat_cvs_pmpm_ct_t_9-6-3m_b4                           0\n",
              "zip_cd                                                        0\n",
              "auth_3mth_post_acute_ckd                                      0\n",
              "atlas_pct_laccess_nhpi15                                   5404\n",
              "auth_3mth_post_acute_ner                                      0\n",
              "auth_3mth_post_er                                             0\n",
              "credit_num_consumerfinance_new                             4621\n",
              "rx_gpi2_49_pmpm_cost_0to3m_b4                                 0\n",
              "cons_chva                                                199614\n",
              "atlas_avghhsize                                               0\n",
              "rx_overall_net_paid_pmpm_cost_6to9m_b4                        0\n",
              "atlas_ownhomepct                                              0\n",
              "atlas_orchard_farms12                                      7265\n",
              "total_physician_office_visit_ct_pmpm_t_6-3-0m_b4              0\n",
              "atlas_pct_fmrkt_wic16                                     89853\n",
              "rx_gpi2_33_pmpm_ct_0to3m_b4                                   0\n",
              "auth_3mth_post_acute_chf                                      0\n",
              "rwjf_social_associate_rate                                 4629\n",
              "atlas_freshveg_farms12                                     7074\n",
              "auth_3mth_acute_ccs_042                                       0\n",
              "auth_3mth_post_acute_inf                                      0\n",
              "auth_3mth_acute_sns                                           0\n",
              "days_since_last_clm_0to3m_b4                                  0\n",
              "auth_3mth_dc_other                                            0\n",
              "auth_3mth_bh_acute_mean_los                                   0\n",
              "mcc_end_pct                                                   0\n",
              "auth_3mth_post_acute_gus                                      0\n",
              "cons_lwcm07                                              199613\n",
              "atlas_pct_fmrkt_otherfood16                               89838\n",
              "auth_3mth_post_acute_end                                      0\n",
              "auth_3mth_acute_mus                                           0\n",
              "atlas_perpov_1980_0711                                     4625\n",
              "atlas_pct_laccess_white15                                  5327\n",
              "auth_3mth_post_acute_mean_los                                 0\n",
              "rx_gpi2_66_pmpm_ct                                            0\n",
              "auth_3mth_acute_gus                                           0\n",
              "rx_generic_dist_gpi6_pmpm_ct_t_9-6-3m_b4                      0\n",
              "atlas_low_education_2015_update                            4753\n",
              "race_cd                                                   15765\n",
              "dtype: int64"
            ]
          },
          "metadata": {},
          "execution_count": 7
        }
      ]
    },
    {
      "cell_type": "code",
      "metadata": {
        "colab": {
          "base_uri": "https://localhost:8080/"
        },
        "id": "V7PaBX_JHJxL",
        "outputId": "4767b3bf-5985-4616-f799-ef726cb37944"
      },
      "source": [
        "# checking distribution of datatypes - training data\n",
        "\n",
        "humana_data.info()"
      ],
      "execution_count": null,
      "outputs": [
        {
          "output_type": "stream",
          "name": "stdout",
          "text": [
            "<class 'pandas.core.frame.DataFrame'>\n",
            "RangeIndex: 974842 entries, 0 to 974841\n",
            "Columns: 368 entries, Unnamed: 0 to race_cd\n",
            "dtypes: float64(202), int64(51), object(115)\n",
            "memory usage: 2.7+ GB\n"
          ]
        }
      ]
    },
    {
      "cell_type": "code",
      "metadata": {
        "colab": {
          "base_uri": "https://localhost:8080/"
        },
        "id": "QemaIybnHJ8e",
        "outputId": "d03a161f-480b-4fa4-99f5-e664757f6eef"
      },
      "source": [
        "# checking null values in Test dataset\n",
        "\n",
        "humana_data_test.isnull().sum()"
      ],
      "execution_count": null,
      "outputs": [
        {
          "output_type": "execute_result",
          "data": {
            "text/plain": [
              "Unnamed: 0                                                    0\n",
              "ID                                                            0\n",
              "auth_3mth_post_acute_dia                                      0\n",
              "rx_gpi2_72_pmpm_cost_6to9m_b4                                 0\n",
              "atlas_pct_laccess_child15                                  3370\n",
              "atlas_recfacpth14                                          2611\n",
              "atlas_pct_fmrkt_frveg16                                   48481\n",
              "atlas_pct_free_lunch14                                    32960\n",
              "bh_ip_snf_net_paid_pmpm_cost_9to12m_b4                    85332\n",
              "auth_3mth_acute_ckd                                           0\n",
              "bh_ncal_pmpm_ct                                               0\n",
              "src_div_id                                                    0\n",
              "total_bh_copay_pmpm_cost_t_9-6-3m_b4                          0\n",
              "bh_ip_snf_net_paid_pmpm_cost_3to6m_b4                     19582\n",
              "cons_chmi                                                108091\n",
              "mcc_ano_pmpm_ct_t_9-6-3m_b4                                   0\n",
              "auth_3mth_post_acute_trm                                      0\n",
              "rx_maint_pmpm_cost_t_12-9-6m_b4                               0\n",
              "auth_3mth_post_acute_rsk                                      0\n",
              "cons_ltmedicr                                            168696\n",
              "rx_gpi4_6110_pmpm_ct                                          0\n",
              "atlas_pc_snapben15                                         6665\n",
              "credit_bal_nonmtgcredit_60dpd                              2434\n",
              "rx_bh_mbr_resp_pmpm_cost_9to12m_b4                            0\n",
              "rx_nonbh_pmpm_cost_t_9-6-3m_b4                                0\n",
              "atlas_pct_laccess_nhna15                                   3016\n",
              "auth_3mth_acute_vco                                           0\n",
              "credit_hh_nonmtgcredit_60dpd                               2434\n",
              "rx_bh_pmpm_ct_0to3m_b4                                        0\n",
              "auth_3mth_dc_ltac                                             0\n",
              "cons_lwcm10                                              107877\n",
              "auth_3mth_post_acute_inj                                      0\n",
              "atlas_fsrpth14                                             2451\n",
              "auth_3mth_dc_home                                             0\n",
              "atlas_wicspth12                                            2453\n",
              "rx_gpi2_17_pmpm_cost_t_12-9-6m_b4                             0\n",
              "cons_hxmioc                                              107791\n",
              "rx_generic_pmpm_cost_t_6-3-0m_b4                              0\n",
              "cmsd2_sns_digest_abdomen_pmpm_ct                              0\n",
              "atlas_ghveg_farms12                                        5826\n",
              "credit_hh_bankcardcredit_60dpd                             2434\n",
              "total_outpatient_allowed_pmpm_cost_6to9m_b4               31966\n",
              "cons_cwht                                                107845\n",
              "atlas_netmigrationrate1016                                 2434\n",
              "atlas_pct_laccess_snap15                                   2915\n",
              "bh_ncdm_ind                                                   0\n",
              "rx_nonmaint_mbr_resp_pmpm_cost_9to12m_b4                      0\n",
              "atlas_retirement_destination_2015_upda                     2491\n",
              "rx_overall_mbr_resp_pmpm_cost_t_6-3-0m_b4                     0\n",
              "atlas_naturalchangerate1016                                2435\n",
              "ccsp_236_pct                                                  0\n",
              "bh_ip_snf_mbr_resp_pmpm_cost_6to9m_b4                     31978\n",
              "rx_overall_dist_gpi6_pmpm_ct_t_6-3-0m_b4                      0\n",
              "auth_3mth_post_acute_ben                                      0\n",
              "atlas_pct_laccess_hisp15                                   2908\n",
              "auth_3mth_dc_no_ref                                           0\n",
              "rx_overall_mbr_resp_pmpm_cost                                 0\n",
              "rx_overall_gpi_pmpm_ct_0to3m_b4                               0\n",
              "auth_3mth_dc_snf                                              0\n",
              "rx_phar_cat_humana_pmpm_ct_t_9-6-3m_b4                        0\n",
              "atlas_pct_laccess_hhnv15                                   2453\n",
              "auth_3mth_acute_ccs_048                                       0\n",
              "bh_ip_snf_net_paid_pmpm_cost_0to3m_b4                         0\n",
              "auth_3mth_acute_end                                           0\n",
              "auth_3mth_psychic                                             0\n",
              "atlas_hiamenity                                            3049\n",
              "auth_3mth_bh_acute                                            0\n",
              "credit_bal_consumerfinance                                 2434\n",
              "auth_3mth_acute_chf                                           0\n",
              "rx_overall_gpi_pmpm_ct_t_6-3-0m_b4                            0\n",
              "rwjf_uninsured_pct                                         2473\n",
              "mcc_chf_pmpm_ct_t_9-6-3m_b4                                   0\n",
              "rx_mail_mbr_resp_pmpm_cost_0to3m_b4                           0\n",
              "bh_urgent_care_copay_pmpm_cost_t_12-9-6m_b4                   0\n",
              "auth_3mth_hospice                                             0\n",
              "auth_3mth_acute_bld                                           0\n",
              "atlas_pct_wic15                                            2446\n",
              "ccsp_193_pct                                                  0\n",
              "auth_3mth_dc_hospice                                          0\n",
              "auth_3mth_acute_ccs_030                                       0\n",
              "atlas_pct_fmrkt_baked16                                   48570\n",
              "rx_nonmaint_mbr_resp_pmpm_cost                                0\n",
              "auth_3mth_acute_skn                                           0\n",
              "atlas_veg_farms12                                          3936\n",
              "atlas_vlfoodsec_13_15                                      2447\n",
              "rx_gpi2_34_dist_gpi6_pmpm_ct                                  0\n",
              "bh_ip_snf_net_paid_pmpm_cost                                  0\n",
              "credit_hh_bankcard_severederog                             2434\n",
              "rx_hum_16_pmpm_ct                                             0\n",
              "est_age                                                       0\n",
              "rx_maint_pmpm_cost_t_6-3-0m_b4                                0\n",
              "cnt_cp_webstatement_pmpm_ct                                   0\n",
              "atlas_pct_laccess_seniors15                                2913\n",
              "phy_em_px_pct                                                 0\n",
              "atlas_percapitainc                                            0\n",
              "rwjf_uninsured_adults_pct                                  2453\n",
              "rx_generic_mbr_resp_pmpm_cost_0to3m_b4                        0\n",
              "auth_3mth_acute_neo                                           0\n",
              "rwjf_air_pollute_density                                   3049\n",
              "rx_gpi2_02_pmpm_cost                                          0\n",
              "atlas_recfac14                                             2447\n",
              "cons_mobplus                                             107791\n",
              "lab_albumin_loinc_pmpm_ct                                     0\n",
              "atlas_pct_obese_adults13                                   2445\n",
              "rx_maint_net_paid_pmpm_cost_t_12-9-6m_b4                      0\n",
              "rev_pm_obsrm_pmpm_ct                                          0\n",
              "atlas_pct_sfsp15                                           2453\n",
              "total_physician_office_net_paid_pmpm_cost_9to12m_b4       85490\n",
              "atlas_pc_dirsales12                                        5592\n",
              "med_ip_snf_admit_days_pmpm                                    0\n",
              "rej_med_outpatient_visit_ct_pmpm_t_6-3-0m_b4                  0\n",
              "auth_3mth_post_acute_vco                                      0\n",
              "cms_tot_partd_payment_amt                                 18990\n",
              "rx_nonotc_dist_gpi6_pmpm_ct                                   0\n",
              "rx_nonmaint_pmpm_ct                                           0\n",
              "rx_nonbh_mbr_resp_pmpm_cost_6to9m_b4                          0\n",
              "cons_stlnindx                                            107800\n",
              "atlas_hipov_1115                                             15\n",
              "auth_3mth_post_acute_dig                                      0\n",
              "rx_nonbh_mbr_resp_pmpm_cost                                   0\n",
              "atlas_redemp_snaps16                                       3220\n",
              "atlas_berry_farms12                                        3972\n",
              "rej_med_ip_snf_coins_pmpm_cost_t_9-6-3m_b4                    0\n",
              "rwjf_inactivity_pct                                        2448\n",
              "rx_gpi2_72_pmpm_ct_6to9m_b4                                   0\n",
              "cons_n2pmr                                               107814\n",
              "med_physician_office_allowed_pmpm_cost_t_9-6-3m_b4            0\n",
              "auth_3mth_acute_res                                           0\n",
              "rev_cms_ct_pmpm_ct                                            0\n",
              "atlas_foodhub16                                            2463\n",
              "total_physician_office_copay_pmpm_cost                        0\n",
              "auth_3mth_acute_dig                                           0\n",
              "auth_3mth_dc_acute_rehab                                      0\n",
              "atlas_pct_fmrkt_anmlprod16                                48531\n",
              "auth_3mth_post_acute_hdz                                      0\n",
              "bh_ip_snf_mbr_resp_pmpm_cost_3to6m_b4                     19612\n",
              "auth_3mth_acute_ccs_172                                       0\n",
              "credit_num_agencyfirstmtg                                  2434\n",
              "total_physician_office_net_paid_pmpm_cost_t_9-6-3m_b4         0\n",
              "auth_3mth_acute_ccs_154                                       0\n",
              "atlas_type_2015_mining_no                                  2437\n",
              "atlas_agritrsm_rct12                                     128315\n",
              "rx_days_since_last_script                                     0\n",
              "atlas_pct_laccess_pop15                                    2890\n",
              "auth_3mth_post_acute_res                                      0\n",
              "auth_3mth_acute_inf                                           0\n",
              "rx_gpi2_01_pmpm_cost_0to3m_b4                                 0\n",
              "atlas_povertyallagespct                                    2434\n",
              "rwjf_uninsured_child_pct                                   2448\n",
              "rx_branded_pmpm_ct_t_6-3-0m_b4                                0\n",
              "med_outpatient_deduct_pmpm_cost_t_9-6-3m_b4                   0\n",
              "credit_bal_mtgcredit_new                                   2434\n",
              "atlas_low_employment_2015_update                           2463\n",
              "atlas_pct_diabetes_adults13                                2447\n",
              "atlas_pct_laccess_nhasian15                                2892\n",
              "atlas_deep_pov_all                                            0\n",
              "atlas_net_international_migration_rate                     2435\n",
              "atlas_deep_pov_children                                       0\n",
              "bh_ncdm_pct                                                   0\n",
              "auth_3mth_non_er                                              0\n",
              "atlas_foodinsec_child_03_11                                2461\n",
              "rx_branded_mbr_resp_pmpm_cost                                 0\n",
              "atlas_pc_wic_redemp12                                     62965\n",
              "rwjf_mv_deaths_rate                                        5798\n",
              "auth_3mth_acute_cad                                           0\n",
              "atlas_pct_reduced_lunch14                                 31420\n",
              "cons_nwperadult                                          107808\n",
              "total_allowed_pmpm_cost_t_9-6-3m_b4                           0\n",
              "rx_hum_28_pmpm_cost                                           0\n",
              "mabh_seg                                                 340429\n",
              "cms_orig_reas_entitle_cd                                  18800\n",
              "atlas_totalocchu                                              0\n",
              "med_physician_office_ds_clm_6to9m_b4                          0\n",
              "bh_ip_snf_mbr_resp_pmpm_cost_9to12m_b4                    85509\n",
              "atlas_pct_loclfarm12                                       3872\n",
              "rx_generic_mbr_resp_pmpm_cost                                 0\n",
              "total_outpatient_mbr_resp_pmpm_cost_6to9m_b4              31980\n",
              "auth_3mth_post_acute_cir                                      0\n",
              "rx_gpi4_3400_pmpm_ct                                          0\n",
              "auth_3mth_post_acute_cer                                      0\n",
              "lab_dist_loinc_pmpm_ct                                        0\n",
              "atlas_pct_nslp15                                           2444\n",
              "rx_generic_pmpm_ct_0to3m_b4                                   0\n",
              "oontwk_mbr_resp_pmpm_cost_t_6-3-0m_b4                         0\n",
              "atlas_pct_laccess_lowi15                                   2873\n",
              "bh_ncal_ind                                                   0\n",
              "auth_3mth_post_acute_mus                                      0\n",
              "atlas_pct_fmrkt_sfmnp16                                   48546\n",
              "hum_region                                                    0\n",
              "rx_nonmail_dist_gpi6_pmpm_ct_t_9-6-3m_b4                      0\n",
              "atlas_pct_loclsale12                                       8106\n",
              "bh_ip_snf_net_paid_pmpm_cost_6to9m_b4                     31989\n",
              "rej_med_er_net_paid_pmpm_cost_t_9-6-3m_b4                     0\n",
              "credit_bal_autobank                                        2434\n",
              "med_outpatient_mbr_resp_pmpm_cost_t_9-6-3m_b4                 0\n",
              "rx_overall_mbr_resp_pmpm_cost_0to3m_b4                        0\n",
              "rx_tier_2_pmpm_ct_3to6m_b4                                    0\n",
              "rx_nonbh_net_paid_pmpm_cost                                   0\n",
              "rx_maint_pmpm_ct_9to12m_b4                                    0\n",
              "rx_nonbh_net_paid_pmpm_cost_t_6-3-0m_b4                       0\n",
              "atlas_type_2015_recreation_no                              2441\n",
              "auth_3mth_post_acute_sns                                      0\n",
              "rx_gpi2_39_pmpm_cost_t_6-3-0m_b4                              0\n",
              "atlas_type_2015_update                                     2444\n",
              "cms_risk_adjustment_factor_a_amt                          18817\n",
              "total_ip_maternity_net_paid_pmpm_cost_t_12-9-6m_b4            0\n",
              "rx_generic_pmpm_cost                                          0\n",
              "cmsd2_eye_retina_pmpm_ct                                      0\n",
              "auth_3mth_acute_can                                           0\n",
              "auth_3mth_post_acute                                          0\n",
              "auth_3mth_facility                                            0\n",
              "rx_days_since_last_script_0to3m_b4                            0\n",
              "atlas_population_loss_2015_update                          2473\n",
              "rx_maint_pmpm_ct_t_6-3-0m_b4                                  0\n",
              "auth_3mth_post_acute_men                                      0\n",
              "auth_3mth_acute_mean_los                                      0\n",
              "credit_num_autofinance                                     2434\n",
              "cons_rxmaint                                             107798\n",
              "rx_mail_net_paid_pmpm_cost_t_6-3-0m_b4                        0\n",
              "auth_3mth_home                                                0\n",
              "rx_maint_mbr_resp_pmpm_cost_6to9m_b4                          0\n",
              "cons_hxwearbl                                            107811\n",
              "total_physician_office_mbr_resp_pmpm_cost_t_9-6-3m_b4         0\n",
              "atlas_pct_laccess_black15                                  2874\n",
              "atlas_hh65plusalonepct                                        0\n",
              "atlas_farm_to_school13                                     8814\n",
              "auth_3mth_acute_inj                                           0\n",
              "auth_3mth_acute_ccs_153                                       0\n",
              "rej_days_since_last_clm                                       0\n",
              "auth_3mth_transplant                                          0\n",
              "bh_outpatient_net_paid_pmpm_cost                              0\n",
              "atlas_dirsales_farms12                                     3914\n",
              "rx_generic_pmpm_cost_6to9m_b4                                 0\n",
              "rev_cms_ansth_pmpm_ct                                         0\n",
              "atlas_convspth14                                           2448\n",
              "total_med_allowed_pmpm_cost_9to12m_b4                     85525\n",
              "rx_mail_mbr_resp_pmpm_cost_t_9-6-3m_b4                        0\n",
              "med_outpatient_visit_ct_pmpm_t_12-9-6m_b4                     0\n",
              "rx_nonbh_pmpm_ct_t_9-6-3m_b4                                  0\n",
              "auth_3mth_acute                                               0\n",
              "rx_nonbh_pmpm_ct_0to3m_b4                                     0\n",
              "atlas_pc_ffrsales12                                        2445\n",
              "auth_3mth_dc_left_ama                                         0\n",
              "credit_bal_bankcard_severederog                            2434\n",
              "atlas_povertyunder18pct                                    2436\n",
              "rx_tier_1_pmpm_ct_0to3m_b4                                    0\n",
              "auth_3mth_acute_ccs_227                                       0\n",
              "cons_estinv30_rc                                         107812\n",
              "auth_3mth_bh_acute_men                                        0\n",
              "rx_gpi2_34_pmpm_ct                                            0\n",
              "auth_3mth_dc_custodial                                        0\n",
              "atlas_veg_acrespth12                                      32031\n",
              "atlas_grocpth14                                            2446\n",
              "total_med_net_paid_pmpm_cost_t_6-3-0m_b4                      0\n",
              "rx_gpi2_90_dist_gpi6_pmpm_ct_9to12m_b4                        0\n",
              "atlas_csa12                                                4128\n",
              "sex_cd                                                        0\n",
              "rx_gpi2_62_pmpm_cost_t_9-6-3m_b4                              0\n",
              "lang_spoken_cd                                           389455\n",
              "rx_overall_gpi_pmpm_ct_t_12-9-6m_b4                           0\n",
              "auth_3mth_ltac                                                0\n",
              "cons_hhcomp                                              107811\n",
              "auth_3mth_acute_hdz                                           0\n",
              "cons_rxadhs                                              107806\n",
              "auth_3mth_acute_men                                           0\n",
              "atlas_pct_fmrkt_snap16                                    48528\n",
              "met_obe_diag_pct                                              0\n",
              "cms_partd_ra_factor_amt                                   18813\n",
              "atlas_pct_sbp15                                            2446\n",
              "rwjf_resident_seg_black_inx                               41554\n",
              "atlas_pct_cacfp15                                          2450\n",
              "auth_3mth_rehab                                               0\n",
              "pdc_lip                                                       0\n",
              "atlas_ffrpth14                                             2450\n",
              "credit_num_autobank_new                                    2434\n",
              "auth_3mth_acute_ccs_086                                       0\n",
              "rx_tier_2_pmpm_ct                                             0\n",
              "cons_n2pwh                                               107802\n",
              "rx_nonmaint_dist_gpi6_pmpm_ct_t_12-9-6m_b4                    0\n",
              "atlas_berry_acrespth12                                   135455\n",
              "atlas_pct_fmrkt_credit16                                  48512\n",
              "atlas_slhouse12                                            2452\n",
              "atlas_pc_fsrsales12                                        2446\n",
              "credit_hh_1stmtgcredit                                     2434\n",
              "auth_3mth_snf_post_hsp                                        0\n",
              "atlas_pct_fmrkt_wiccash16                                 48524\n",
              "atlas_foodinsec_13_15                                      2454\n",
              "auth_3mth_acute_cer                                           0\n",
              "cons_rxadhm                                              107814\n",
              "atlas_fmrktpth16                                           2448\n",
              "rx_nonotc_pmpm_cost_t_6-3-0m_b4                               0\n",
              "cci_dia_m_pmpm_ct                                             0\n",
              "auth_3mth_acute_trm                                           0\n",
              "cons_n2phi                                               107806\n",
              "bh_physician_office_copay_pmpm_cost_6to9m_b4              31994\n",
              "rwjf_income_inequ_ratio                                    2445\n",
              "rej_total_physician_office_visit_ct_pmpm_0to3m_b4             0\n",
              "auth_3mth_acute_dia                                           0\n",
              "credit_num_nonmtgcredit_60dpd                              2434\n",
              "auth_3mth_snf_direct                                          0\n",
              "credit_bal_autofinance_new                                 2434\n",
              "auth_3mth_acute_ccs_067                                       0\n",
              "auth_3mth_acute_ccs_043                                       0\n",
              "rwjf_men_hlth_prov_ratio                                   3476\n",
              "auth_3mth_dc_home_health                                      0\n",
              "rx_gpi2_56_dist_gpi6_pmpm_ct_3to6m_b4                         0\n",
              "cmsd2_sns_genitourinary_pmpm_ct                               0\n",
              "auth_3mth_acute_cir                                           0\n",
              "auth_3mth_acute_ner                                           0\n",
              "auth_3mth_acute_ccs_094                                       0\n",
              "med_ambulance_coins_pmpm_cost_t_9-6-3m_b4                     0\n",
              "hedis_dia_hba1c_ge9                                      167662\n",
              "bh_ncal_pct                                                   0\n",
              "atlas_pct_snap16                                           2447\n",
              "ccsp_227_pct                                                  0\n",
              "atlas_ghveg_sqftpth12                                    140647\n",
              "rx_days_since_last_script_6to9m_b4                            0\n",
              "atlas_orchard_acrespth12                                  37324\n",
              "atlas_persistentchildpoverty_1980_2011                     2467\n",
              "auth_3mth_post_acute_cad                                      0\n",
              "atlas_pct_laccess_multir15                                 2859\n",
              "cons_cgqs                                                107815\n",
              "ccsp_065_pmpm_ct                                              0\n",
              "auth_3mth_acute_ccs_044                                       0\n",
              "atlas_medhhinc                                             2435\n",
              "rx_maint_net_paid_pmpm_cost_t_9-6-3m_b4                       0\n",
              "rwjf_mental_distress_pct                                   2446\n",
              "bh_ip_snf_admit_days_pmpm_t_9-6-3m_b4                         0\n",
              "rx_phar_cat_cvs_pmpm_ct_t_9-6-3m_b4                           0\n",
              "zip_cd                                                        0\n",
              "auth_3mth_post_acute_ckd                                      0\n",
              "atlas_pct_laccess_nhpi15                                   2878\n",
              "auth_3mth_post_acute_ner                                      0\n",
              "auth_3mth_post_er                                             0\n",
              "credit_num_consumerfinance_new                             2434\n",
              "rx_gpi2_49_pmpm_cost_0to3m_b4                                 0\n",
              "cons_chva                                                107809\n",
              "atlas_avghhsize                                               0\n",
              "rx_overall_net_paid_pmpm_cost_6to9m_b4                        0\n",
              "atlas_ownhomepct                                              0\n",
              "atlas_orchard_farms12                                      3869\n",
              "total_physician_office_visit_ct_pmpm_t_6-3-0m_b4              0\n",
              "atlas_pct_fmrkt_wic16                                     48526\n",
              "rx_gpi2_33_pmpm_ct_0to3m_b4                                   0\n",
              "auth_3mth_post_acute_chf                                      0\n",
              "rwjf_social_associate_rate                                 2448\n",
              "atlas_freshveg_farms12                                     3785\n",
              "auth_3mth_acute_ccs_042                                       0\n",
              "auth_3mth_post_acute_inf                                      0\n",
              "auth_3mth_acute_sns                                           0\n",
              "days_since_last_clm_0to3m_b4                                  0\n",
              "auth_3mth_dc_other                                            0\n",
              "auth_3mth_bh_acute_mean_los                                   0\n",
              "mcc_end_pct                                                   0\n",
              "auth_3mth_post_acute_gus                                      0\n",
              "cons_lwcm07                                              107811\n",
              "atlas_pct_fmrkt_otherfood16                               48515\n",
              "auth_3mth_post_acute_end                                      0\n",
              "auth_3mth_acute_mus                                           0\n",
              "atlas_perpov_1980_0711                                     2442\n",
              "atlas_pct_laccess_white15                                  2828\n",
              "auth_3mth_post_acute_mean_los                                 0\n",
              "rx_gpi2_66_pmpm_ct                                            0\n",
              "auth_3mth_acute_gus                                           0\n",
              "rx_generic_dist_gpi6_pmpm_ct_t_9-6-3m_b4                      0\n",
              "atlas_low_education_2015_update                            2516\n",
              "race_cd                                                    8692\n",
              "dtype: int64"
            ]
          },
          "metadata": {},
          "execution_count": 9
        }
      ]
    },
    {
      "cell_type": "code",
      "metadata": {
        "colab": {
          "base_uri": "https://localhost:8080/"
        },
        "id": "05pStzHRHKAu",
        "outputId": "11a85019-1c9d-4bb4-8c19-b4cec3e5a3f0"
      },
      "source": [
        "# checking distribution of datatypes - test data\n",
        "\n",
        "humana_data_test.info()"
      ],
      "execution_count": null,
      "outputs": [
        {
          "output_type": "stream",
          "name": "stdout",
          "text": [
            "<class 'pandas.core.frame.DataFrame'>\n",
            "RangeIndex: 525158 entries, 0 to 525157\n",
            "Columns: 367 entries, Unnamed: 0 to race_cd\n",
            "dtypes: float64(202), int64(57), object(108)\n",
            "memory usage: 1.4+ GB\n"
          ]
        }
      ]
    },
    {
      "cell_type": "markdown",
      "metadata": {
        "id": "I31tlYdtLMGb"
      },
      "source": [
        "# Data Cleaning"
      ]
    },
    {
      "cell_type": "code",
      "metadata": {
        "id": "xMnVxwAiHKKX"
      },
      "source": [
        "  # fixing missing values - Training data\n",
        "\n",
        "humana_data['atlas_pct_laccess_child15'] = humana_data['atlas_pct_laccess_child15'].fillna(humana_data['atlas_pct_laccess_child15'].mean())\n",
        "humana_data['atlas_recfacpth14'] = humana_data['atlas_recfacpth14'].fillna(humana_data['atlas_recfacpth14'].mean())\n",
        "humana_data['atlas_pct_fmrkt_frveg16'] = humana_data['atlas_pct_fmrkt_frveg16'].fillna(humana_data['atlas_pct_fmrkt_frveg16'].mean())\n",
        "humana_data['atlas_pct_free_lunch14'] = humana_data['atlas_pct_free_lunch14'].fillna(humana_data['atlas_pct_free_lunch14'].mean())\n",
        "humana_data['cons_chmi'] = humana_data['cons_chmi'].fillna(humana_data['cons_chmi'].mean())\n",
        "humana_data['cons_ltmedicr'] = humana_data['cons_ltmedicr'].fillna(humana_data['cons_ltmedicr'].mean())\n",
        "humana_data['atlas_pc_snapben15'] = humana_data['atlas_pc_snapben15'].fillna(humana_data['atlas_pc_snapben15'].mean())\n",
        "humana_data['credit_bal_nonmtgcredit_60dpd'] = humana_data['credit_bal_nonmtgcredit_60dpd'].fillna(humana_data['credit_bal_nonmtgcredit_60dpd'].mean())\n",
        "humana_data['atlas_pct_laccess_nhna15'] = humana_data['atlas_pct_laccess_nhna15'].fillna(humana_data['atlas_pct_laccess_nhna15'].mean())\n",
        "humana_data['credit_hh_nonmtgcredit_60dpd'] = humana_data['credit_hh_nonmtgcredit_60dpd'].fillna(humana_data['credit_hh_nonmtgcredit_60dpd'].mean())\n",
        "humana_data['cons_lwcm10'] = humana_data['cons_lwcm10'].fillna(humana_data['cons_lwcm10'].mean())\n",
        "humana_data['atlas_fsrpth14'] = humana_data['atlas_fsrpth14'].fillna(humana_data['atlas_fsrpth14'].mean())\n",
        "humana_data['atlas_wicspth12'] = humana_data['atlas_wicspth12'].fillna(humana_data['atlas_wicspth12'].mean())\n",
        "humana_data['cons_hxmioc'] = humana_data['cons_hxmioc'].fillna(humana_data['cons_hxmioc'].mean())\n",
        "humana_data['atlas_ghveg_farms12'] = humana_data['atlas_ghveg_farms12'].fillna(humana_data['atlas_ghveg_farms12'].mean())\n",
        "humana_data['credit_hh_bankcardcredit_60dpd'] = humana_data['credit_hh_bankcardcredit_60dpd'].fillna(humana_data['credit_hh_bankcardcredit_60dpd'].mean())\n",
        "humana_data['total_outpatient_allowed_pmpm_cost_6to9m_b4'] = humana_data['total_outpatient_allowed_pmpm_cost_6to9m_b4'].fillna(humana_data['total_outpatient_allowed_pmpm_cost_6to9m_b4'].mean())\n",
        "humana_data['cons_cwht'] = humana_data['cons_cwht'].fillna(humana_data['cons_cwht'].mean())\n",
        "humana_data['atlas_netmigrationrate1016'] = humana_data['atlas_netmigrationrate1016'].fillna(humana_data['atlas_netmigrationrate1016'].mean())\n",
        "humana_data['atlas_pct_laccess_snap15'] = humana_data['atlas_pct_laccess_snap15'].fillna(humana_data['atlas_pct_laccess_snap15'].mean())\n",
        "humana_data['atlas_retirement_destination_2015_upda'] = humana_data['atlas_retirement_destination_2015_upda'].fillna(humana_data['atlas_retirement_destination_2015_upda'].mean())\n",
        "humana_data['atlas_naturalchangerate1016'] = humana_data['atlas_naturalchangerate1016'].fillna(humana_data['atlas_naturalchangerate1016'].mean())\n",
        "humana_data['atlas_pct_laccess_hisp15'] = humana_data['atlas_pct_laccess_hisp15'].fillna(humana_data['atlas_pct_laccess_hisp15'].mean())\n",
        "humana_data['atlas_pct_laccess_hhnv15'] = humana_data['atlas_pct_laccess_hhnv15'].fillna(humana_data['atlas_pct_laccess_hhnv15'].mean())\n",
        "humana_data['atlas_hiamenity'] = humana_data['atlas_hiamenity'].fillna(humana_data['atlas_hiamenity'].mean())\n",
        "humana_data['credit_bal_consumerfinance'] = humana_data['credit_bal_consumerfinance'].fillna(humana_data['credit_bal_consumerfinance'].mean())\n",
        "humana_data['rwjf_uninsured_pct'] = humana_data['rwjf_uninsured_pct'].fillna(humana_data['rwjf_uninsured_pct'].mean())\n",
        "humana_data['atlas_pct_wic15'] = humana_data['atlas_pct_wic15'].fillna(humana_data['atlas_pct_wic15'].mean())\n",
        "humana_data['atlas_pct_fmrkt_baked16'] = humana_data['atlas_pct_fmrkt_baked16'].fillna(humana_data['atlas_pct_fmrkt_baked16'].mean())\n",
        "humana_data['atlas_veg_farms12'] = humana_data['atlas_veg_farms12'].fillna(humana_data['atlas_veg_farms12'].mean())\n",
        "humana_data['atlas_vlfoodsec_13_15'] = humana_data['atlas_vlfoodsec_13_15'].fillna(humana_data['atlas_vlfoodsec_13_15'].mean())\n",
        "humana_data['credit_hh_bankcard_severederog'] = humana_data['credit_hh_bankcard_severederog'].fillna(humana_data['credit_hh_bankcard_severederog'].mean())\n",
        "humana_data['atlas_pct_laccess_seniors15'] = humana_data['atlas_pct_laccess_seniors15'].fillna(humana_data['atlas_pct_laccess_seniors15'].mean())\n",
        "humana_data['rwjf_uninsured_adults_pct'] = humana_data['rwjf_uninsured_adults_pct'].fillna(humana_data['rwjf_uninsured_adults_pct'].mean())\n",
        "humana_data['rwjf_air_pollute_density'] = humana_data['rwjf_air_pollute_density'].fillna(humana_data['rwjf_air_pollute_density'].mean())\n",
        "humana_data['atlas_recfac14'] = humana_data['atlas_recfac14'].fillna(humana_data['atlas_recfac14'].mean())\n",
        "humana_data['atlas_pct_obese_adults13'] = humana_data['atlas_pct_obese_adults13'].fillna(humana_data['atlas_pct_obese_adults13'].mean())\n",
        "humana_data['atlas_pct_sfsp15'] = humana_data['atlas_pct_sfsp15'].fillna(humana_data['atlas_pct_sfsp15'].mean())\n",
        "humana_data['total_physician_office_net_paid_pmpm_cost_9to12m_b4'] = humana_data['total_physician_office_net_paid_pmpm_cost_9to12m_b4'].fillna(humana_data['total_physician_office_net_paid_pmpm_cost_9to12m_b4'].mean())\n",
        "humana_data['atlas_pc_dirsales12'] = humana_data['atlas_pc_dirsales12'].fillna(humana_data['atlas_pc_dirsales12'].mean())\n",
        "humana_data['cms_tot_partd_payment_amt'] = humana_data['cms_tot_partd_payment_amt'].fillna(humana_data['cms_tot_partd_payment_amt'].mean())\n",
        "humana_data['cons_stlnindx'] = humana_data['cons_stlnindx'].fillna(humana_data['cons_stlnindx'].mean())\n",
        "humana_data['atlas_hipov_1115'] = humana_data['atlas_hipov_1115'].fillna(humana_data['atlas_hipov_1115'].mean())\n",
        "humana_data['atlas_redemp_snaps16'] = humana_data['atlas_redemp_snaps16'].fillna(humana_data['atlas_redemp_snaps16'].mean())\n",
        "humana_data['atlas_berry_farms12'] = humana_data['atlas_berry_farms12'].fillna(humana_data['atlas_berry_farms12'].mean())\n",
        "humana_data['rwjf_inactivity_pct'] = humana_data['rwjf_inactivity_pct'].fillna(humana_data['rwjf_inactivity_pct'].mean())\n",
        "humana_data['cons_n2pmr'] = humana_data['cons_n2pmr'].fillna(humana_data['cons_n2pmr'].mean())\n",
        "humana_data['atlas_foodhub16'] = humana_data['atlas_foodhub16'].fillna(humana_data['atlas_foodhub16'].mean())\n",
        "humana_data['atlas_pct_fmrkt_anmlprod16'] = humana_data['atlas_pct_fmrkt_anmlprod16'].fillna(humana_data['atlas_pct_fmrkt_anmlprod16'].mean())\n",
        "humana_data['credit_num_agencyfirstmtg'] = humana_data['credit_num_agencyfirstmtg'].fillna(humana_data['credit_num_agencyfirstmtg'].mean())\n",
        "humana_data['atlas_type_2015_mining_no'] = humana_data['atlas_type_2015_mining_no'].fillna(humana_data['atlas_type_2015_mining_no'].mean())\n",
        "humana_data['atlas_agritrsm_rct12'] = humana_data['atlas_agritrsm_rct12'].fillna(humana_data['atlas_agritrsm_rct12'].mean())\n",
        "humana_data['atlas_pct_laccess_pop15'] = humana_data['atlas_pct_laccess_pop15'].fillna(humana_data['atlas_pct_laccess_pop15'].mean())\n",
        "humana_data['atlas_povertyallagespct'] = humana_data['atlas_povertyallagespct'].fillna(humana_data['atlas_povertyallagespct'].mean())\n",
        "humana_data['rwjf_uninsured_child_pct'] = humana_data['rwjf_uninsured_child_pct'].fillna(humana_data['rwjf_uninsured_child_pct'].mean())\n",
        "humana_data['credit_bal_mtgcredit_new'] = humana_data['credit_bal_mtgcredit_new'].fillna(humana_data['credit_bal_mtgcredit_new'].mean())\n",
        "humana_data['atlas_low_employment_2015_update'] = humana_data['atlas_low_employment_2015_update'].fillna(humana_data['atlas_low_employment_2015_update'].mean())\n",
        "humana_data['atlas_pct_diabetes_adults13'] = humana_data['atlas_pct_diabetes_adults13'].fillna(humana_data['atlas_pct_diabetes_adults13'].mean())\n",
        "humana_data['atlas_pct_laccess_nhasian15'] = humana_data['atlas_pct_laccess_nhasian15'].fillna(humana_data['atlas_pct_laccess_nhasian15'].mean())\n",
        "humana_data['atlas_net_international_migration_rate'] = humana_data['atlas_net_international_migration_rate'].fillna(humana_data['atlas_net_international_migration_rate'].mean())\n",
        "humana_data['atlas_foodinsec_child_03_11'] = humana_data['atlas_foodinsec_child_03_11'].fillna(humana_data['atlas_foodinsec_child_03_11'].mean())\n",
        "humana_data['atlas_pc_wic_redemp12'] = humana_data['atlas_pc_wic_redemp12'].fillna(humana_data['atlas_pc_wic_redemp12'].mean())\n",
        "humana_data['rwjf_mv_deaths_rate'] = humana_data['rwjf_mv_deaths_rate'].fillna(humana_data['rwjf_mv_deaths_rate'].mean())\n",
        "humana_data['atlas_pct_reduced_lunch14'] = humana_data['atlas_pct_reduced_lunch14'].fillna(humana_data['atlas_pct_reduced_lunch14'].mean())\n",
        "humana_data['cons_nwperadult'] = humana_data['cons_nwperadult'].fillna(humana_data['cons_nwperadult'].mean())\n",
        "humana_data['cms_orig_reas_entitle_cd'] = humana_data['cms_orig_reas_entitle_cd'].fillna(humana_data['cms_orig_reas_entitle_cd'].mean())\n",
        "humana_data['atlas_pct_loclfarm12'] = humana_data['atlas_pct_loclfarm12'].fillna(humana_data['atlas_pct_loclfarm12'].mean())\n",
        "humana_data['total_outpatient_mbr_resp_pmpm_cost_6to9m_b4'] = humana_data['total_outpatient_mbr_resp_pmpm_cost_6to9m_b4'].fillna(humana_data['total_outpatient_mbr_resp_pmpm_cost_6to9m_b4'].mean())\n",
        "humana_data['atlas_pct_nslp15'] = humana_data['atlas_pct_nslp15'].fillna(humana_data['atlas_pct_nslp15'].mean())\n",
        "humana_data['atlas_pct_laccess_lowi15'] = humana_data['atlas_pct_laccess_lowi15'].fillna(humana_data['atlas_pct_laccess_lowi15'].mean())\n",
        "humana_data['atlas_pct_fmrkt_sfmnp16'] = humana_data['atlas_pct_fmrkt_sfmnp16'].fillna(humana_data['atlas_pct_fmrkt_sfmnp16'].mean())\n",
        "humana_data['atlas_pct_loclsale12'] = humana_data['atlas_pct_loclsale12'].fillna(humana_data['atlas_pct_loclsale12'].mean())\n",
        "humana_data['credit_bal_autobank'] = humana_data['credit_bal_autobank'].fillna(humana_data['credit_bal_autobank'].mean())\n",
        "humana_data['atlas_type_2015_recreation_no'] = humana_data['atlas_type_2015_recreation_no'].fillna(humana_data['atlas_type_2015_recreation_no'].mean())\n",
        "humana_data['atlas_type_2015_update'] = humana_data['atlas_type_2015_update'].fillna(humana_data['atlas_type_2015_update'].mean())\n",
        "humana_data['cms_risk_adjustment_factor_a_amt'] = humana_data['cms_risk_adjustment_factor_a_amt'].fillna(humana_data['cms_risk_adjustment_factor_a_amt'].mean())\n",
        "humana_data['atlas_population_loss_2015_update'] = humana_data['atlas_population_loss_2015_update'].fillna(humana_data['atlas_population_loss_2015_update'].mean())\n",
        "humana_data['credit_num_autofinance'] = humana_data['credit_num_autofinance'].fillna(humana_data['credit_num_autofinance'].mean())\n",
        "humana_data['cons_rxmaint'] = humana_data['cons_rxmaint'].fillna(humana_data['cons_rxmaint'].mean())\n",
        "humana_data['cons_hxwearbl'] = humana_data['cons_hxwearbl'].fillna(humana_data['cons_hxwearbl'].mean())\n",
        "humana_data['atlas_pct_laccess_black15'] = humana_data['atlas_pct_laccess_black15'].fillna(humana_data['atlas_pct_laccess_black15'].mean())\n",
        "humana_data['atlas_farm_to_school13'] = humana_data['atlas_farm_to_school13'].fillna(humana_data['atlas_farm_to_school13'].mean())\n",
        "humana_data['atlas_dirsales_farms12'] = humana_data['atlas_dirsales_farms12'].fillna(humana_data['atlas_dirsales_farms12'].mean())\n",
        "humana_data['atlas_convspth14'] = humana_data['atlas_convspth14'].fillna(humana_data['atlas_convspth14'].mean())\n",
        "humana_data['total_med_allowed_pmpm_cost_9to12m_b4'] = humana_data['total_med_allowed_pmpm_cost_9to12m_b4'].fillna(humana_data['total_med_allowed_pmpm_cost_9to12m_b4'].mean())\n",
        "humana_data['atlas_pc_ffrsales12'] = humana_data['atlas_pc_ffrsales12'].fillna(humana_data['atlas_pc_ffrsales12'].mean())\n",
        "humana_data['credit_bal_bankcard_severederog'] = humana_data['credit_bal_bankcard_severederog'].fillna(humana_data['credit_bal_bankcard_severederog'].mean())\n",
        "humana_data['atlas_povertyunder18pct'] = humana_data['atlas_povertyunder18pct'].fillna(humana_data['atlas_povertyunder18pct'].mean())\n",
        "humana_data['cons_estinv30_rc'] = humana_data['cons_estinv30_rc'].fillna(humana_data['cons_estinv30_rc'].mean())\n",
        "humana_data['atlas_veg_acrespth12'] = humana_data['atlas_veg_acrespth12'].fillna(humana_data['atlas_veg_acrespth12'].mean())\n",
        "humana_data['atlas_grocpth14'] = humana_data['atlas_grocpth14'].fillna(humana_data['atlas_grocpth14'].mean())\n",
        "humana_data['atlas_csa12'] = humana_data['atlas_csa12'].fillna(humana_data['atlas_csa12'].mean())\n",
        "humana_data['cons_rxadhs'] = humana_data['cons_rxadhs'].fillna(humana_data['cons_rxadhs'].mean())\n",
        "humana_data['atlas_pct_fmrkt_snap16'] = humana_data['atlas_pct_fmrkt_snap16'].fillna(humana_data['atlas_pct_fmrkt_snap16'].mean())\n",
        "humana_data['cms_partd_ra_factor_amt'] = humana_data['cms_partd_ra_factor_amt'].fillna(humana_data['cms_partd_ra_factor_amt'].mean())\n",
        "humana_data['atlas_pct_sbp15'] = humana_data['atlas_pct_sbp15'].fillna(humana_data['atlas_pct_sbp15'].mean())\n",
        "humana_data['rwjf_resident_seg_black_inx'] = humana_data['rwjf_resident_seg_black_inx'].fillna(humana_data['rwjf_resident_seg_black_inx'].mean())\n",
        "humana_data['atlas_pct_cacfp15'] = humana_data['atlas_pct_cacfp15'].fillna(humana_data['atlas_pct_cacfp15'].mean())\n",
        "humana_data['atlas_ffrpth14'] = humana_data['atlas_ffrpth14'].fillna(humana_data['atlas_ffrpth14'].mean())\n",
        "humana_data['credit_num_autobank_new'] = humana_data['credit_num_autobank_new'].fillna(humana_data['credit_num_autobank_new'].mean())\n",
        "humana_data['cons_n2pwh'] = humana_data['cons_n2pwh'].fillna(humana_data['cons_n2pwh'].mean())\n",
        "humana_data['atlas_berry_acrespth12'] = humana_data['atlas_berry_acrespth12'].fillna(humana_data['atlas_berry_acrespth12'].mean())\n",
        "humana_data['atlas_pct_fmrkt_credit16'] = humana_data['atlas_pct_fmrkt_credit16'].fillna(humana_data['atlas_pct_fmrkt_credit16'].mean())\n",
        "humana_data['atlas_slhouse12'] = humana_data['atlas_slhouse12'].fillna(humana_data['atlas_slhouse12'].mean())\n",
        "humana_data['atlas_pc_fsrsales12'] = humana_data['atlas_pc_fsrsales12'].fillna(humana_data['atlas_pc_fsrsales12'].mean())\n",
        "humana_data['credit_hh_1stmtgcredit'] = humana_data['credit_hh_1stmtgcredit'].fillna(humana_data['credit_hh_1stmtgcredit'].mean())\n",
        "humana_data['atlas_pct_fmrkt_wiccash16'] = humana_data['atlas_pct_fmrkt_wiccash16'].fillna(humana_data['atlas_pct_fmrkt_wiccash16'].mean())\n",
        "humana_data['atlas_foodinsec_13_15'] = humana_data['atlas_foodinsec_13_15'].fillna(humana_data['atlas_foodinsec_13_15'].mean())\n",
        "humana_data['cons_rxadhm'] = humana_data['cons_rxadhm'].fillna(humana_data['cons_rxadhm'].mean())\n",
        "humana_data['atlas_fmrktpth16'] = humana_data['atlas_fmrktpth16'].fillna(humana_data['atlas_fmrktpth16'].mean())\n",
        "humana_data['cons_n2phi'] = humana_data['cons_n2phi'].fillna(humana_data['cons_n2phi'].mean())\n",
        "humana_data['bh_physician_office_copay_pmpm_cost_6to9m_b4'] = humana_data['bh_physician_office_copay_pmpm_cost_6to9m_b4'].fillna(humana_data['bh_physician_office_copay_pmpm_cost_6to9m_b4'].mean())\n",
        "humana_data['rwjf_income_inequ_ratio'] = humana_data['rwjf_income_inequ_ratio'].fillna(humana_data['rwjf_income_inequ_ratio'].mean())\n",
        "humana_data['credit_num_nonmtgcredit_60dpd'] = humana_data['credit_num_nonmtgcredit_60dpd'].fillna(humana_data['credit_num_nonmtgcredit_60dpd'].mean())\n",
        "humana_data['credit_bal_autofinance_new'] = humana_data['credit_bal_autofinance_new'].fillna(humana_data['credit_bal_autofinance_new'].mean())\n",
        "humana_data['rwjf_men_hlth_prov_ratio'] = humana_data['rwjf_men_hlth_prov_ratio'].fillna(humana_data['rwjf_men_hlth_prov_ratio'].mean())\n",
        "humana_data['atlas_pct_snap16'] = humana_data['atlas_pct_snap16'].fillna(humana_data['atlas_pct_snap16'].mean())\n",
        "humana_data['atlas_ghveg_sqftpth12'] = humana_data['atlas_ghveg_sqftpth12'].fillna(humana_data['atlas_ghveg_sqftpth12'].mean())\n",
        "humana_data['atlas_orchard_acrespth12'] = humana_data['atlas_orchard_acrespth12'].fillna(humana_data['atlas_orchard_acrespth12'].mean())\n",
        "humana_data['atlas_persistentchildpoverty_1980_2011'] = humana_data['atlas_persistentchildpoverty_1980_2011'].fillna(humana_data['atlas_persistentchildpoverty_1980_2011'].mean())\n",
        "humana_data['atlas_pct_laccess_multir15'] = humana_data['atlas_pct_laccess_multir15'].fillna(humana_data['atlas_pct_laccess_multir15'].mean())\n",
        "humana_data['cons_cgqs'] = humana_data['cons_cgqs'].fillna(humana_data['cons_cgqs'].mean())\n",
        "humana_data['atlas_medhhinc'] = humana_data['atlas_medhhinc'].fillna(humana_data['atlas_medhhinc'].mean())\n",
        "humana_data['rwjf_mental_distress_pct'] = humana_data['rwjf_mental_distress_pct'].fillna(humana_data['rwjf_mental_distress_pct'].mean())\n",
        "humana_data['atlas_pct_laccess_nhpi15'] = humana_data['atlas_pct_laccess_nhpi15'].fillna(humana_data['atlas_pct_laccess_nhpi15'].mean())\n",
        "humana_data['credit_num_consumerfinance_new'] = humana_data['credit_num_consumerfinance_new'].fillna(humana_data['credit_num_consumerfinance_new'].mean())\n",
        "humana_data['cons_chva'] = humana_data['cons_chva'].fillna(humana_data['cons_chva'].mean())\n",
        "humana_data['atlas_orchard_farms12'] = humana_data['atlas_orchard_farms12'].fillna(humana_data['atlas_orchard_farms12'].mean())\n",
        "humana_data['atlas_pct_fmrkt_wic16'] = humana_data['atlas_pct_fmrkt_wic16'].fillna(humana_data['atlas_pct_fmrkt_wic16'].mean())\n",
        "humana_data['rwjf_social_associate_rate'] = humana_data['rwjf_social_associate_rate'].fillna(humana_data['rwjf_social_associate_rate'].mean())\n",
        "humana_data['atlas_freshveg_farms12'] = humana_data['atlas_freshveg_farms12'].fillna(humana_data['atlas_freshveg_farms12'].mean())\n",
        "humana_data['cons_lwcm07'] = humana_data['cons_lwcm07'].fillna(humana_data['cons_lwcm07'].mean())\n",
        "humana_data['atlas_pct_fmrkt_otherfood16'] = humana_data['atlas_pct_fmrkt_otherfood16'].fillna(humana_data['atlas_pct_fmrkt_otherfood16'].mean())\n",
        "humana_data['atlas_perpov_1980_0711'] = humana_data['atlas_perpov_1980_0711'].fillna(humana_data['atlas_perpov_1980_0711'].mean())\n",
        "humana_data['atlas_pct_laccess_white15'] = humana_data['atlas_pct_laccess_white15'].fillna(humana_data['atlas_pct_laccess_white15'].mean())\n",
        "humana_data['atlas_low_education_2015_update'] = humana_data['atlas_low_education_2015_update'].fillna(humana_data['atlas_low_education_2015_update'].mean())\n",
        "humana_data['race_cd'] = humana_data['race_cd'].fillna(humana_data['race_cd'].mean())\n"
      ],
      "execution_count": null,
      "outputs": []
    },
    {
      "cell_type": "code",
      "metadata": {
        "id": "qdX92UjNHKO2"
      },
      "source": [
        "  # fixing missing values in test data\n",
        "\n",
        "humana_data_test['atlas_pct_laccess_child15'] = humana_data_test['atlas_pct_laccess_child15'].fillna(humana_data_test['atlas_pct_laccess_child15'].mean())\n",
        "humana_data_test['atlas_recfacpth14'] = humana_data_test['atlas_recfacpth14'].fillna(humana_data_test['atlas_recfacpth14'].mean())\n",
        "humana_data_test['atlas_pct_fmrkt_frveg16'] = humana_data_test['atlas_pct_fmrkt_frveg16'].fillna(humana_data_test['atlas_pct_fmrkt_frveg16'].mean())\n",
        "humana_data_test['atlas_pct_free_lunch14'] = humana_data_test['atlas_pct_free_lunch14'].fillna(humana_data_test['atlas_pct_free_lunch14'].mean())\n",
        "humana_data_test['cons_chmi'] = humana_data_test['cons_chmi'].fillna(humana_data_test['cons_chmi'].mean())\n",
        "humana_data_test['cons_ltmedicr'] = humana_data_test['cons_ltmedicr'].fillna(humana_data_test['cons_ltmedicr'].mean())\n",
        "humana_data_test['atlas_pc_snapben15'] = humana_data_test['atlas_pc_snapben15'].fillna(humana_data_test['atlas_pc_snapben15'].mean())\n",
        "humana_data_test['credit_bal_nonmtgcredit_60dpd'] = humana_data_test['credit_bal_nonmtgcredit_60dpd'].fillna(humana_data_test['credit_bal_nonmtgcredit_60dpd'].mean())\n",
        "humana_data_test['atlas_pct_laccess_nhna15'] = humana_data_test['atlas_pct_laccess_nhna15'].fillna(humana_data_test['atlas_pct_laccess_nhna15'].mean())\n",
        "humana_data_test['credit_hh_nonmtgcredit_60dpd'] = humana_data_test['credit_hh_nonmtgcredit_60dpd'].fillna(humana_data_test['credit_hh_nonmtgcredit_60dpd'].mean())\n",
        "humana_data_test['cons_lwcm10'] = humana_data_test['cons_lwcm10'].fillna(humana_data_test['cons_lwcm10'].mean())\n",
        "humana_data_test['atlas_fsrpth14'] = humana_data_test['atlas_fsrpth14'].fillna(humana_data_test['atlas_fsrpth14'].mean())\n",
        "humana_data_test['atlas_wicspth12'] = humana_data_test['atlas_wicspth12'].fillna(humana_data_test['atlas_wicspth12'].mean())\n",
        "humana_data_test['cons_hxmioc'] = humana_data_test['cons_hxmioc'].fillna(humana_data_test['cons_hxmioc'].mean())\n",
        "humana_data_test['atlas_ghveg_farms12'] = humana_data_test['atlas_ghveg_farms12'].fillna(humana_data_test['atlas_ghveg_farms12'].mean())\n",
        "humana_data_test['credit_hh_bankcardcredit_60dpd'] = humana_data_test['credit_hh_bankcardcredit_60dpd'].fillna(humana_data_test['credit_hh_bankcardcredit_60dpd'].mean())\n",
        "humana_data_test['total_outpatient_allowed_pmpm_cost_6to9m_b4'] = humana_data_test['total_outpatient_allowed_pmpm_cost_6to9m_b4'].fillna(humana_data_test['total_outpatient_allowed_pmpm_cost_6to9m_b4'].mean())\n",
        "humana_data_test['cons_cwht'] = humana_data_test['cons_cwht'].fillna(humana_data_test['cons_cwht'].mean())\n",
        "humana_data_test['atlas_netmigrationrate1016'] = humana_data_test['atlas_netmigrationrate1016'].fillna(humana_data_test['atlas_netmigrationrate1016'].mean())\n",
        "humana_data_test['atlas_pct_laccess_snap15'] = humana_data_test['atlas_pct_laccess_snap15'].fillna(humana_data_test['atlas_pct_laccess_snap15'].mean())\n",
        "humana_data_test['atlas_retirement_destination_2015_upda'] = humana_data_test['atlas_retirement_destination_2015_upda'].fillna(humana_data_test['atlas_retirement_destination_2015_upda'].mean())\n",
        "humana_data_test['atlas_naturalchangerate1016'] = humana_data_test['atlas_naturalchangerate1016'].fillna(humana_data_test['atlas_naturalchangerate1016'].mean())\n",
        "humana_data_test['atlas_pct_laccess_hisp15'] = humana_data_test['atlas_pct_laccess_hisp15'].fillna(humana_data_test['atlas_pct_laccess_hisp15'].mean())\n",
        "humana_data_test['atlas_pct_laccess_hhnv15'] = humana_data_test['atlas_pct_laccess_hhnv15'].fillna(humana_data_test['atlas_pct_laccess_hhnv15'].mean())\n",
        "humana_data_test['atlas_hiamenity'] = humana_data_test['atlas_hiamenity'].fillna(humana_data_test['atlas_hiamenity'].mean())\n",
        "humana_data_test['credit_bal_consumerfinance'] = humana_data_test['credit_bal_consumerfinance'].fillna(humana_data_test['credit_bal_consumerfinance'].mean())\n",
        "humana_data_test['rwjf_uninsured_pct'] = humana_data_test['rwjf_uninsured_pct'].fillna(humana_data_test['rwjf_uninsured_pct'].mean())\n",
        "humana_data_test['atlas_pct_wic15'] = humana_data_test['atlas_pct_wic15'].fillna(humana_data_test['atlas_pct_wic15'].mean())\n",
        "humana_data_test['atlas_pct_fmrkt_baked16'] = humana_data_test['atlas_pct_fmrkt_baked16'].fillna(humana_data_test['atlas_pct_fmrkt_baked16'].mean())\n",
        "humana_data_test['atlas_veg_farms12'] = humana_data_test['atlas_veg_farms12'].fillna(humana_data_test['atlas_veg_farms12'].mean())\n",
        "humana_data_test['atlas_vlfoodsec_13_15'] = humana_data_test['atlas_vlfoodsec_13_15'].fillna(humana_data_test['atlas_vlfoodsec_13_15'].mean())\n",
        "humana_data_test['credit_hh_bankcard_severederog'] = humana_data_test['credit_hh_bankcard_severederog'].fillna(humana_data_test['credit_hh_bankcard_severederog'].mean())\n",
        "humana_data_test['atlas_pct_laccess_seniors15'] = humana_data_test['atlas_pct_laccess_seniors15'].fillna(humana_data_test['atlas_pct_laccess_seniors15'].mean())\n",
        "humana_data_test['rwjf_uninsured_adults_pct'] = humana_data_test['rwjf_uninsured_adults_pct'].fillna(humana_data_test['rwjf_uninsured_adults_pct'].mean())\n",
        "humana_data_test['rwjf_air_pollute_density'] = humana_data_test['rwjf_air_pollute_density'].fillna(humana_data_test['rwjf_air_pollute_density'].mean())\n",
        "humana_data_test['atlas_recfac14'] = humana_data_test['atlas_recfac14'].fillna(humana_data_test['atlas_recfac14'].mean())\n",
        "humana_data_test['atlas_pct_obese_adults13'] = humana_data_test['atlas_pct_obese_adults13'].fillna(humana_data_test['atlas_pct_obese_adults13'].mean())\n",
        "humana_data_test['atlas_pct_sfsp15'] = humana_data_test['atlas_pct_sfsp15'].fillna(humana_data_test['atlas_pct_sfsp15'].mean())\n",
        "humana_data_test['total_physician_office_net_paid_pmpm_cost_9to12m_b4'] = humana_data_test['total_physician_office_net_paid_pmpm_cost_9to12m_b4'].fillna(humana_data_test['total_physician_office_net_paid_pmpm_cost_9to12m_b4'].mean())\n",
        "humana_data_test['atlas_pc_dirsales12'] = humana_data_test['atlas_pc_dirsales12'].fillna(humana_data_test['atlas_pc_dirsales12'].mean())\n",
        "humana_data_test['cms_tot_partd_payment_amt'] = humana_data_test['cms_tot_partd_payment_amt'].fillna(humana_data_test['cms_tot_partd_payment_amt'].mean())\n",
        "humana_data_test['cons_stlnindx'] = humana_data_test['cons_stlnindx'].fillna(humana_data_test['cons_stlnindx'].mean())\n",
        "humana_data_test['atlas_hipov_1115'] = humana_data_test['atlas_hipov_1115'].fillna(humana_data_test['atlas_hipov_1115'].mean())\n",
        "humana_data_test['atlas_redemp_snaps16'] = humana_data_test['atlas_redemp_snaps16'].fillna(humana_data_test['atlas_redemp_snaps16'].mean())\n",
        "humana_data_test['atlas_berry_farms12'] = humana_data_test['atlas_berry_farms12'].fillna(humana_data_test['atlas_berry_farms12'].mean())\n",
        "humana_data_test['rwjf_inactivity_pct'] = humana_data_test['rwjf_inactivity_pct'].fillna(humana_data_test['rwjf_inactivity_pct'].mean())\n",
        "humana_data_test['cons_n2pmr'] = humana_data_test['cons_n2pmr'].fillna(humana_data_test['cons_n2pmr'].mean())\n",
        "humana_data_test['atlas_foodhub16'] = humana_data_test['atlas_foodhub16'].fillna(humana_data_test['atlas_foodhub16'].mean())\n",
        "humana_data_test['atlas_pct_fmrkt_anmlprod16'] = humana_data_test['atlas_pct_fmrkt_anmlprod16'].fillna(humana_data_test['atlas_pct_fmrkt_anmlprod16'].mean())\n",
        "humana_data_test['credit_num_agencyfirstmtg'] = humana_data_test['credit_num_agencyfirstmtg'].fillna(humana_data_test['credit_num_agencyfirstmtg'].mean())\n",
        "humana_data_test['atlas_type_2015_mining_no'] = humana_data_test['atlas_type_2015_mining_no'].fillna(humana_data_test['atlas_type_2015_mining_no'].mean())\n",
        "humana_data_test['atlas_agritrsm_rct12'] = humana_data_test['atlas_agritrsm_rct12'].fillna(humana_data_test['atlas_agritrsm_rct12'].mean())\n",
        "humana_data_test['atlas_pct_laccess_pop15'] = humana_data_test['atlas_pct_laccess_pop15'].fillna(humana_data_test['atlas_pct_laccess_pop15'].mean())\n",
        "humana_data_test['atlas_povertyallagespct'] = humana_data_test['atlas_povertyallagespct'].fillna(humana_data_test['atlas_povertyallagespct'].mean())\n",
        "humana_data_test['rwjf_uninsured_child_pct'] = humana_data_test['rwjf_uninsured_child_pct'].fillna(humana_data_test['rwjf_uninsured_child_pct'].mean())\n",
        "humana_data_test['credit_bal_mtgcredit_new'] = humana_data_test['credit_bal_mtgcredit_new'].fillna(humana_data_test['credit_bal_mtgcredit_new'].mean())\n",
        "humana_data_test['atlas_low_employment_2015_update'] = humana_data_test['atlas_low_employment_2015_update'].fillna(humana_data_test['atlas_low_employment_2015_update'].mean())\n",
        "humana_data_test['atlas_pct_diabetes_adults13'] = humana_data_test['atlas_pct_diabetes_adults13'].fillna(humana_data_test['atlas_pct_diabetes_adults13'].mean())\n",
        "humana_data_test['atlas_pct_laccess_nhasian15'] = humana_data_test['atlas_pct_laccess_nhasian15'].fillna(humana_data_test['atlas_pct_laccess_nhasian15'].mean())\n",
        "humana_data_test['atlas_net_international_migration_rate'] = humana_data_test['atlas_net_international_migration_rate'].fillna(humana_data_test['atlas_net_international_migration_rate'].mean())\n",
        "humana_data_test['atlas_foodinsec_child_03_11'] = humana_data_test['atlas_foodinsec_child_03_11'].fillna(humana_data_test['atlas_foodinsec_child_03_11'].mean())\n",
        "humana_data_test['atlas_pc_wic_redemp12'] = humana_data_test['atlas_pc_wic_redemp12'].fillna(humana_data_test['atlas_pc_wic_redemp12'].mean())\n",
        "humana_data_test['rwjf_mv_deaths_rate'] = humana_data_test['rwjf_mv_deaths_rate'].fillna(humana_data_test['rwjf_mv_deaths_rate'].mean())\n",
        "humana_data_test['atlas_pct_reduced_lunch14'] = humana_data_test['atlas_pct_reduced_lunch14'].fillna(humana_data_test['atlas_pct_reduced_lunch14'].mean())\n",
        "humana_data_test['cons_nwperadult'] = humana_data_test['cons_nwperadult'].fillna(humana_data_test['cons_nwperadult'].mean())\n",
        "humana_data_test['cms_orig_reas_entitle_cd'] = humana_data_test['cms_orig_reas_entitle_cd'].fillna(humana_data_test['cms_orig_reas_entitle_cd'].mean())\n",
        "humana_data_test['atlas_pct_loclfarm12'] = humana_data_test['atlas_pct_loclfarm12'].fillna(humana_data_test['atlas_pct_loclfarm12'].mean())\n",
        "humana_data_test['total_outpatient_mbr_resp_pmpm_cost_6to9m_b4'] = humana_data_test['total_outpatient_mbr_resp_pmpm_cost_6to9m_b4'].fillna(humana_data_test['total_outpatient_mbr_resp_pmpm_cost_6to9m_b4'].mean())\n",
        "humana_data_test['atlas_pct_nslp15'] = humana_data_test['atlas_pct_nslp15'].fillna(humana_data_test['atlas_pct_nslp15'].mean())\n",
        "humana_data_test['atlas_pct_laccess_lowi15'] = humana_data_test['atlas_pct_laccess_lowi15'].fillna(humana_data_test['atlas_pct_laccess_lowi15'].mean())\n",
        "humana_data_test['atlas_pct_fmrkt_sfmnp16'] = humana_data_test['atlas_pct_fmrkt_sfmnp16'].fillna(humana_data_test['atlas_pct_fmrkt_sfmnp16'].mean())\n",
        "humana_data_test['atlas_pct_loclsale12'] = humana_data_test['atlas_pct_loclsale12'].fillna(humana_data_test['atlas_pct_loclsale12'].mean())\n",
        "humana_data_test['credit_bal_autobank'] = humana_data_test['credit_bal_autobank'].fillna(humana_data_test['credit_bal_autobank'].mean())\n",
        "humana_data_test['atlas_type_2015_recreation_no'] = humana_data_test['atlas_type_2015_recreation_no'].fillna(humana_data_test['atlas_type_2015_recreation_no'].mean())\n",
        "humana_data_test['atlas_type_2015_update'] = humana_data_test['atlas_type_2015_update'].fillna(humana_data_test['atlas_type_2015_update'].mean())\n",
        "humana_data_test['cms_risk_adjustment_factor_a_amt'] = humana_data_test['cms_risk_adjustment_factor_a_amt'].fillna(humana_data_test['cms_risk_adjustment_factor_a_amt'].mean())\n",
        "humana_data_test['atlas_population_loss_2015_update'] = humana_data_test['atlas_population_loss_2015_update'].fillna(humana_data_test['atlas_population_loss_2015_update'].mean())\n",
        "humana_data_test['credit_num_autofinance'] = humana_data_test['credit_num_autofinance'].fillna(humana_data_test['credit_num_autofinance'].mean())\n",
        "humana_data_test['cons_rxmaint'] = humana_data_test['cons_rxmaint'].fillna(humana_data_test['cons_rxmaint'].mean())\n",
        "humana_data_test['cons_hxwearbl'] = humana_data_test['cons_hxwearbl'].fillna(humana_data_test['cons_hxwearbl'].mean())\n",
        "humana_data_test['atlas_pct_laccess_black15'] = humana_data_test['atlas_pct_laccess_black15'].fillna(humana_data_test['atlas_pct_laccess_black15'].mean())\n",
        "humana_data_test['atlas_farm_to_school13'] = humana_data_test['atlas_farm_to_school13'].fillna(humana_data_test['atlas_farm_to_school13'].mean())\n",
        "humana_data_test['atlas_dirsales_farms12'] = humana_data_test['atlas_dirsales_farms12'].fillna(humana_data_test['atlas_dirsales_farms12'].mean())\n",
        "humana_data_test['atlas_convspth14'] = humana_data_test['atlas_convspth14'].fillna(humana_data_test['atlas_convspth14'].mean())\n",
        "humana_data_test['total_med_allowed_pmpm_cost_9to12m_b4'] = humana_data_test['total_med_allowed_pmpm_cost_9to12m_b4'].fillna(humana_data_test['total_med_allowed_pmpm_cost_9to12m_b4'].mean())\n",
        "humana_data_test['atlas_pc_ffrsales12'] = humana_data_test['atlas_pc_ffrsales12'].fillna(humana_data_test['atlas_pc_ffrsales12'].mean())\n",
        "humana_data_test['credit_bal_bankcard_severederog'] = humana_data_test['credit_bal_bankcard_severederog'].fillna(humana_data_test['credit_bal_bankcard_severederog'].mean())\n",
        "humana_data_test['atlas_povertyunder18pct'] = humana_data_test['atlas_povertyunder18pct'].fillna(humana_data_test['atlas_povertyunder18pct'].mean())\n",
        "humana_data_test['cons_estinv30_rc'] = humana_data_test['cons_estinv30_rc'].fillna(humana_data_test['cons_estinv30_rc'].mean())\n",
        "humana_data_test['atlas_veg_acrespth12'] = humana_data_test['atlas_veg_acrespth12'].fillna(humana_data_test['atlas_veg_acrespth12'].mean())\n",
        "humana_data_test['atlas_grocpth14'] = humana_data_test['atlas_grocpth14'].fillna(humana_data_test['atlas_grocpth14'].mean())\n",
        "humana_data_test['atlas_csa12'] = humana_data_test['atlas_csa12'].fillna(humana_data_test['atlas_csa12'].mean())\n",
        "humana_data_test['cons_rxadhs'] = humana_data_test['cons_rxadhs'].fillna(humana_data_test['cons_rxadhs'].mean())\n",
        "humana_data_test['atlas_pct_fmrkt_snap16'] = humana_data_test['atlas_pct_fmrkt_snap16'].fillna(humana_data_test['atlas_pct_fmrkt_snap16'].mean())\n",
        "humana_data_test['cms_partd_ra_factor_amt'] = humana_data_test['cms_partd_ra_factor_amt'].fillna(humana_data_test['cms_partd_ra_factor_amt'].mean())\n",
        "humana_data_test['atlas_pct_sbp15'] = humana_data_test['atlas_pct_sbp15'].fillna(humana_data_test['atlas_pct_sbp15'].mean())\n",
        "humana_data_test['rwjf_resident_seg_black_inx'] = humana_data_test['rwjf_resident_seg_black_inx'].fillna(humana_data_test['rwjf_resident_seg_black_inx'].mean())\n",
        "humana_data_test['atlas_pct_cacfp15'] = humana_data_test['atlas_pct_cacfp15'].fillna(humana_data_test['atlas_pct_cacfp15'].mean())\n",
        "humana_data_test['atlas_ffrpth14'] = humana_data_test['atlas_ffrpth14'].fillna(humana_data_test['atlas_ffrpth14'].mean())\n",
        "humana_data_test['credit_num_autobank_new'] = humana_data_test['credit_num_autobank_new'].fillna(humana_data_test['credit_num_autobank_new'].mean())\n",
        "humana_data_test['cons_n2pwh'] = humana_data_test['cons_n2pwh'].fillna(humana_data_test['cons_n2pwh'].mean())\n",
        "humana_data_test['atlas_berry_acrespth12'] = humana_data_test['atlas_berry_acrespth12'].fillna(humana_data_test['atlas_berry_acrespth12'].mean())\n",
        "humana_data_test['atlas_pct_fmrkt_credit16'] = humana_data_test['atlas_pct_fmrkt_credit16'].fillna(humana_data_test['atlas_pct_fmrkt_credit16'].mean())\n",
        "humana_data_test['atlas_slhouse12'] = humana_data_test['atlas_slhouse12'].fillna(humana_data_test['atlas_slhouse12'].mean())\n",
        "humana_data_test['atlas_pc_fsrsales12'] = humana_data_test['atlas_pc_fsrsales12'].fillna(humana_data_test['atlas_pc_fsrsales12'].mean())\n",
        "humana_data_test['credit_hh_1stmtgcredit'] = humana_data_test['credit_hh_1stmtgcredit'].fillna(humana_data_test['credit_hh_1stmtgcredit'].mean())\n",
        "humana_data_test['atlas_pct_fmrkt_wiccash16'] = humana_data_test['atlas_pct_fmrkt_wiccash16'].fillna(humana_data_test['atlas_pct_fmrkt_wiccash16'].mean())\n",
        "humana_data_test['atlas_foodinsec_13_15'] = humana_data_test['atlas_foodinsec_13_15'].fillna(humana_data_test['atlas_foodinsec_13_15'].mean())\n",
        "humana_data_test['cons_rxadhm'] = humana_data_test['cons_rxadhm'].fillna(humana_data_test['cons_rxadhm'].mean())\n",
        "humana_data_test['atlas_fmrktpth16'] = humana_data_test['atlas_fmrktpth16'].fillna(humana_data_test['atlas_fmrktpth16'].mean())\n",
        "humana_data_test['cons_n2phi'] = humana_data_test['cons_n2phi'].fillna(humana_data_test['cons_n2phi'].mean())\n",
        "humana_data_test['bh_physician_office_copay_pmpm_cost_6to9m_b4'] = humana_data_test['bh_physician_office_copay_pmpm_cost_6to9m_b4'].fillna(humana_data_test['bh_physician_office_copay_pmpm_cost_6to9m_b4'].mean())\n",
        "humana_data_test['rwjf_income_inequ_ratio'] = humana_data_test['rwjf_income_inequ_ratio'].fillna(humana_data_test['rwjf_income_inequ_ratio'].mean())\n",
        "humana_data_test['credit_num_nonmtgcredit_60dpd'] = humana_data_test['credit_num_nonmtgcredit_60dpd'].fillna(humana_data_test['credit_num_nonmtgcredit_60dpd'].mean())\n",
        "humana_data_test['credit_bal_autofinance_new'] = humana_data_test['credit_bal_autofinance_new'].fillna(humana_data_test['credit_bal_autofinance_new'].mean())\n",
        "humana_data_test['rwjf_men_hlth_prov_ratio'] = humana_data_test['rwjf_men_hlth_prov_ratio'].fillna(humana_data_test['rwjf_men_hlth_prov_ratio'].mean())\n",
        "humana_data_test['atlas_pct_snap16'] = humana_data_test['atlas_pct_snap16'].fillna(humana_data_test['atlas_pct_snap16'].mean())\n",
        "humana_data_test['atlas_ghveg_sqftpth12'] = humana_data_test['atlas_ghveg_sqftpth12'].fillna(humana_data_test['atlas_ghveg_sqftpth12'].mean())\n",
        "humana_data_test['atlas_orchard_acrespth12'] = humana_data_test['atlas_orchard_acrespth12'].fillna(humana_data_test['atlas_orchard_acrespth12'].mean())\n",
        "humana_data_test['atlas_persistentchildpoverty_1980_2011'] = humana_data_test['atlas_persistentchildpoverty_1980_2011'].fillna(humana_data_test['atlas_persistentchildpoverty_1980_2011'].mean())\n",
        "humana_data_test['atlas_pct_laccess_multir15'] = humana_data_test['atlas_pct_laccess_multir15'].fillna(humana_data_test['atlas_pct_laccess_multir15'].mean())\n",
        "humana_data_test['cons_cgqs'] = humana_data_test['cons_cgqs'].fillna(humana_data_test['cons_cgqs'].mean())\n",
        "humana_data_test['atlas_medhhinc'] = humana_data_test['atlas_medhhinc'].fillna(humana_data_test['atlas_medhhinc'].mean())\n",
        "humana_data_test['rwjf_mental_distress_pct'] = humana_data_test['rwjf_mental_distress_pct'].fillna(humana_data_test['rwjf_mental_distress_pct'].mean())\n",
        "humana_data_test['atlas_pct_laccess_nhpi15'] = humana_data_test['atlas_pct_laccess_nhpi15'].fillna(humana_data_test['atlas_pct_laccess_nhpi15'].mean())\n",
        "humana_data_test['credit_num_consumerfinance_new'] = humana_data_test['credit_num_consumerfinance_new'].fillna(humana_data_test['credit_num_consumerfinance_new'].mean())\n",
        "humana_data_test['cons_chva'] = humana_data_test['cons_chva'].fillna(humana_data_test['cons_chva'].mean())\n",
        "humana_data_test['atlas_orchard_farms12'] = humana_data_test['atlas_orchard_farms12'].fillna(humana_data_test['atlas_orchard_farms12'].mean())\n",
        "humana_data_test['atlas_pct_fmrkt_wic16'] = humana_data_test['atlas_pct_fmrkt_wic16'].fillna(humana_data_test['atlas_pct_fmrkt_wic16'].mean())\n",
        "humana_data_test['rwjf_social_associate_rate'] = humana_data_test['rwjf_social_associate_rate'].fillna(humana_data_test['rwjf_social_associate_rate'].mean())\n",
        "humana_data_test['atlas_freshveg_farms12'] = humana_data_test['atlas_freshveg_farms12'].fillna(humana_data_test['atlas_freshveg_farms12'].mean())\n",
        "humana_data_test['cons_lwcm07'] = humana_data_test['cons_lwcm07'].fillna(humana_data_test['cons_lwcm07'].mean())\n",
        "humana_data_test['atlas_pct_fmrkt_otherfood16'] = humana_data_test['atlas_pct_fmrkt_otherfood16'].fillna(humana_data_test['atlas_pct_fmrkt_otherfood16'].mean())\n",
        "humana_data_test['atlas_perpov_1980_0711'] = humana_data_test['atlas_perpov_1980_0711'].fillna(humana_data_test['atlas_perpov_1980_0711'].mean())\n",
        "humana_data_test['atlas_pct_laccess_white15'] = humana_data_test['atlas_pct_laccess_white15'].fillna(humana_data_test['atlas_pct_laccess_white15'].mean())\n",
        "humana_data_test['atlas_low_education_2015_update'] = humana_data_test['atlas_low_education_2015_update'].fillna(humana_data_test['atlas_low_education_2015_update'].mean())\n",
        "humana_data_test['race_cd'] = humana_data_test['race_cd'].fillna(humana_data_test['race_cd'].mean())\n"
      ],
      "execution_count": null,
      "outputs": []
    },
    {
      "cell_type": "code",
      "metadata": {
        "id": "Y4dHafy0HKTk"
      },
      "source": [
        "# drop cells with large null values - Training data\n",
        "\n",
        "humana_data.drop(['cons_ltmedicr'], axis=1, inplace=True)\n",
        "humana_data.drop(['mabh_seg'], axis=1, inplace=True)\n",
        "humana_data.drop(['lang_spoken_cd'], axis=1, inplace=True)\n",
        "humana_data.drop(['hedis_dia_hba1c_ge9'], axis=1, inplace=True)\n"
      ],
      "execution_count": null,
      "outputs": []
    },
    {
      "cell_type": "code",
      "metadata": {
        "id": "wfYuBiiaHKYT"
      },
      "source": [
        "# drop cells with large null values - Test data\n",
        "\n",
        "humana_data_test.drop(['cons_ltmedicr'], axis=1, inplace=True)\n",
        "humana_data_test.drop(['mabh_seg'], axis=1, inplace=True)\n",
        "humana_data_test.drop(['lang_spoken_cd'], axis=1, inplace=True)\n",
        "humana_data_test.drop(['hedis_dia_hba1c_ge9'], axis=1, inplace=True)"
      ],
      "execution_count": null,
      "outputs": []
    },
    {
      "cell_type": "code",
      "metadata": {
        "id": "FKyGIgoZHKdM"
      },
      "source": [
        "# fill missing values in object with mode - Training data\n",
        "\n",
        "humana_data['bh_ip_snf_net_paid_pmpm_cost_9to12m_b4'] = humana_data['bh_ip_snf_net_paid_pmpm_cost_9to12m_b4'].fillna(humana_data['bh_ip_snf_net_paid_pmpm_cost_9to12m_b4'].mode()[0])\n",
        "humana_data['bh_ip_snf_net_paid_pmpm_cost_3to6m_b4'] = humana_data['bh_ip_snf_net_paid_pmpm_cost_3to6m_b4'].fillna(humana_data['bh_ip_snf_net_paid_pmpm_cost_3to6m_b4'].mode()[0])\n",
        "humana_data['bh_ip_snf_mbr_resp_pmpm_cost_6to9m_b4'] = humana_data['bh_ip_snf_mbr_resp_pmpm_cost_6to9m_b4'].fillna(humana_data['bh_ip_snf_mbr_resp_pmpm_cost_6to9m_b4'].mode()[0])\n",
        "humana_data['cons_mobplus'] = humana_data['cons_mobplus'].fillna(humana_data['cons_mobplus'].mode()[0])\n",
        "humana_data['bh_ip_snf_mbr_resp_pmpm_cost_3to6m_b4'] = humana_data['bh_ip_snf_mbr_resp_pmpm_cost_3to6m_b4'].fillna(humana_data['bh_ip_snf_mbr_resp_pmpm_cost_3to6m_b4'].mode()[0])\n",
        "humana_data['bh_ip_snf_mbr_resp_pmpm_cost_9to12m_b4'] = humana_data['bh_ip_snf_mbr_resp_pmpm_cost_9to12m_b4'].fillna(humana_data['bh_ip_snf_mbr_resp_pmpm_cost_9to12m_b4'].mode()[0])\n",
        "humana_data['bh_ip_snf_net_paid_pmpm_cost_6to9m_b4'] = humana_data['bh_ip_snf_net_paid_pmpm_cost_6to9m_b4'].fillna(humana_data['bh_ip_snf_net_paid_pmpm_cost_6to9m_b4'].mode()[0])\n",
        "humana_data['cons_hhcomp'] = humana_data['cons_hhcomp'].fillna(humana_data['cons_hhcomp'].mode()[0])\n"
      ],
      "execution_count": null,
      "outputs": []
    },
    {
      "cell_type": "code",
      "metadata": {
        "id": "G6uwK-VbHKiA"
      },
      "source": [
        "# fill missing values in object with mode - Test data\n",
        "\n",
        "humana_data_test['bh_ip_snf_net_paid_pmpm_cost_9to12m_b4'] = humana_data_test['bh_ip_snf_net_paid_pmpm_cost_9to12m_b4'].fillna(humana_data_test['bh_ip_snf_net_paid_pmpm_cost_9to12m_b4'].mode()[0])\n",
        "humana_data_test['bh_ip_snf_net_paid_pmpm_cost_3to6m_b4'] = humana_data_test['bh_ip_snf_net_paid_pmpm_cost_3to6m_b4'].fillna(humana_data_test['bh_ip_snf_net_paid_pmpm_cost_3to6m_b4'].mode()[0])\n",
        "humana_data_test['bh_ip_snf_mbr_resp_pmpm_cost_6to9m_b4'] = humana_data_test['bh_ip_snf_mbr_resp_pmpm_cost_6to9m_b4'].fillna(humana_data_test['bh_ip_snf_mbr_resp_pmpm_cost_6to9m_b4'].mode()[0])\n",
        "humana_data_test['cons_mobplus'] = humana_data_test['cons_mobplus'].fillna(humana_data_test['cons_mobplus'].mode()[0])\n",
        "humana_data_test['bh_ip_snf_mbr_resp_pmpm_cost_3to6m_b4'] = humana_data_test['bh_ip_snf_mbr_resp_pmpm_cost_3to6m_b4'].fillna(humana_data_test['bh_ip_snf_mbr_resp_pmpm_cost_3to6m_b4'].mode()[0])\n",
        "humana_data_test['bh_ip_snf_mbr_resp_pmpm_cost_9to12m_b4'] = humana_data_test['bh_ip_snf_mbr_resp_pmpm_cost_9to12m_b4'].fillna(humana_data_test['bh_ip_snf_mbr_resp_pmpm_cost_9to12m_b4'].mode()[0])\n",
        "humana_data_test['bh_ip_snf_net_paid_pmpm_cost_6to9m_b4'] = humana_data_test['bh_ip_snf_net_paid_pmpm_cost_6to9m_b4'].fillna(humana_data_test['bh_ip_snf_net_paid_pmpm_cost_6to9m_b4'].mode()[0])\n",
        "humana_data_test['cons_hhcomp'] = humana_data_test['cons_hhcomp'].fillna(humana_data_test['cons_hhcomp'].mode()[0])\n"
      ],
      "execution_count": null,
      "outputs": []
    },
    {
      "cell_type": "code",
      "metadata": {
        "id": "VaLAus8IHKmr"
      },
      "source": [
        "# fixing * values in training data\n",
        "\n",
        "humana_data.loc[humana_data['rx_gpi4_6110_pmpm_ct']=='*',['rx_gpi4_6110_pmpm_ct']] = np.nan\n",
        "humana_data.loc[humana_data['rx_gpi2_17_pmpm_cost_t_12-9-6m_b4']=='*',['rx_gpi2_17_pmpm_cost_t_12-9-6m_b4']] = np.nan\n",
        "humana_data.loc[humana_data['total_physician_office_visit_ct_pmpm_t_6-3-0m_b4']=='*',['total_physician_office_visit_ct_pmpm_t_6-3-0m_b4']] = np.nan\n",
        "humana_data.loc[humana_data['rx_gpi2_72_pmpm_ct_6to9m_b4']=='*',['rx_gpi2_72_pmpm_ct_6to9m_b4']] = np.nan\n",
        "\n"
      ],
      "execution_count": null,
      "outputs": []
    },
    {
      "cell_type": "code",
      "metadata": {
        "id": "qlwi5c8QM97A"
      },
      "source": [
        "# assigning mode to null values created by * - Training data\n",
        "\n",
        "humana_data['rx_gpi4_6110_pmpm_ct'] = humana_data['rx_gpi4_6110_pmpm_ct'].fillna(humana_data['rx_gpi4_6110_pmpm_ct'].mode()[0])\n",
        "humana_data['rx_gpi2_17_pmpm_cost_t_12-9-6m_b4'] = humana_data['rx_gpi2_17_pmpm_cost_t_12-9-6m_b4'].fillna(humana_data['rx_gpi2_17_pmpm_cost_t_12-9-6m_b4'].mode()[0])\n",
        "humana_data['total_physician_office_visit_ct_pmpm_t_6-3-0m_b4'] = humana_data['total_physician_office_visit_ct_pmpm_t_6-3-0m_b4'].fillna(humana_data['total_physician_office_visit_ct_pmpm_t_6-3-0m_b4'].mode()[0])\n",
        "humana_data['rx_gpi2_72_pmpm_ct_6to9m_b4'] = humana_data['rx_gpi2_72_pmpm_ct_6to9m_b4'].fillna(humana_data['rx_gpi2_72_pmpm_ct_6to9m_b4'].mode()[0])"
      ],
      "execution_count": null,
      "outputs": []
    },
    {
      "cell_type": "code",
      "metadata": {
        "id": "0WhfdUFbHKr6"
      },
      "source": [
        "# fixing * values in test data\n",
        "\n",
        "humana_data_test.loc[humana_data_test['rx_gpi4_6110_pmpm_ct']=='*',['rx_gpi4_6110_pmpm_ct']] = np.nan\n",
        "humana_data_test.loc[humana_data_test['rx_gpi2_17_pmpm_cost_t_12-9-6m_b4']=='*',['rx_gpi2_17_pmpm_cost_t_12-9-6m_b4']] = np.nan\n",
        "humana_data_test.loc[humana_data_test['total_physician_office_visit_ct_pmpm_t_6-3-0m_b4']=='*',['total_physician_office_visit_ct_pmpm_t_6-3-0m_b4']] = np.nan\n",
        "humana_data_test.loc[humana_data_test['rx_gpi2_72_pmpm_ct_6to9m_b4']=='*',['rx_gpi2_72_pmpm_ct_6to9m_b4']] = np.nan\n",
        "\n"
      ],
      "execution_count": null,
      "outputs": []
    },
    {
      "cell_type": "code",
      "metadata": {
        "id": "zxiaRckdHKwZ"
      },
      "source": [
        "# assigning mode to null values created by * - Test data\n",
        "\n",
        "humana_data_test['rx_gpi4_6110_pmpm_ct'] = humana_data_test['rx_gpi4_6110_pmpm_ct'].fillna(humana_data_test['rx_gpi4_6110_pmpm_ct'].mode()[0])\n",
        "humana_data_test['rx_gpi2_17_pmpm_cost_t_12-9-6m_b4'] = humana_data_test['rx_gpi2_17_pmpm_cost_t_12-9-6m_b4'].fillna(humana_data_test['rx_gpi2_17_pmpm_cost_t_12-9-6m_b4'].mode()[0])\n",
        "humana_data_test['total_physician_office_visit_ct_pmpm_t_6-3-0m_b4'] = humana_data_test['total_physician_office_visit_ct_pmpm_t_6-3-0m_b4'].fillna(humana_data_test['total_physician_office_visit_ct_pmpm_t_6-3-0m_b4'].mode()[0])\n",
        "humana_data_test['rx_gpi2_72_pmpm_ct_6to9m_b4'] = humana_data_test['rx_gpi2_72_pmpm_ct_6to9m_b4'].fillna(humana_data_test['rx_gpi2_72_pmpm_ct_6to9m_b4'].mode()[0])\n"
      ],
      "execution_count": null,
      "outputs": []
    },
    {
      "cell_type": "code",
      "metadata": {
        "id": "6jrXcVgMHK1Z"
      },
      "source": [
        "# convert objects to category column - Training data\n",
        "\n",
        "humana_data['rx_gpi2_17_pmpm_cost_t_12-9-6m_b4'] = humana_data['rx_gpi2_17_pmpm_cost_t_12-9-6m_b4'].astype('category') \n",
        "humana_data['rx_overall_dist_gpi6_pmpm_ct_t_6-3-0m_b4'] = humana_data['rx_overall_dist_gpi6_pmpm_ct_t_6-3-0m_b4'].astype('category')\n",
        "humana_data['hum_region'] = humana_data['hum_region'].astype('category')\n",
        "humana_data['sex_cd'] = humana_data['sex_cd'].astype('category') \n",
        "humana_data['cons_hhcomp'] = humana_data['cons_hhcomp'].astype('category')\n",
        "humana_data['total_physician_office_visit_ct_pmpm_t_6-3-0m_b4'] = humana_data['total_physician_office_visit_ct_pmpm_t_6-3-0m_b4'].astype('category')\n",
        "humana_data['rx_overall_gpi_pmpm_ct_t_6-3-0m_b4'] = humana_data['rx_overall_gpi_pmpm_ct_t_6-3-0m_b4'].astype('category')\n"
      ],
      "execution_count": null,
      "outputs": []
    },
    {
      "cell_type": "code",
      "metadata": {
        "id": "rgUGU9MiHK7E"
      },
      "source": [
        "# assign categorical variables - Test data\n",
        "\n",
        "humana_data['rx_gpi2_17_pmpm_cost_t_12-9-6m_b4'] = humana_data['rx_gpi2_17_pmpm_cost_t_12-9-6m_b4'].cat.codes\n",
        "humana_data['rx_overall_dist_gpi6_pmpm_ct_t_6-3-0m_b4'] = humana_data['rx_overall_dist_gpi6_pmpm_ct_t_6-3-0m_b4'].cat.codes\n",
        "humana_data['rx_overall_gpi_pmpm_ct_t_6-3-0m_b4'] = humana_data['rx_overall_gpi_pmpm_ct_t_6-3-0m_b4'].cat.codes\n",
        "humana_data['hum_region'] = humana_data['hum_region'].cat.codes\n",
        "humana_data['sex_cd'] = humana_data['sex_cd'].cat.codes\n",
        "humana_data['cons_hhcomp'] = humana_data['cons_hhcomp'].cat.codes\n",
        "humana_data['total_physician_office_visit_ct_pmpm_t_6-3-0m_b4'] = humana_data['total_physician_office_visit_ct_pmpm_t_6-3-0m_b4'].cat.codes\n",
        "humana_data['rx_gpi4_6110_pmpm_ct']= pd.to_numeric(humana_data['rx_gpi4_6110_pmpm_ct'], downcast=\"float\")\n",
        "humana_data['rx_gpi2_72_pmpm_ct_6to9m_b4']= pd.to_numeric(humana_data['rx_gpi2_72_pmpm_ct_6to9m_b4'], downcast=\"float\")\n"
      ],
      "execution_count": null,
      "outputs": []
    },
    {
      "cell_type": "code",
      "metadata": {
        "id": "f-G0aKWPRTpj"
      },
      "source": [
        "# convert objects to category column\n",
        "\n",
        "humana_data_test['rx_gpi2_17_pmpm_cost_t_12-9-6m_b4'] = humana_data_test['rx_gpi2_17_pmpm_cost_t_12-9-6m_b4'].astype('category')\n",
        "humana_data_test['rx_overall_dist_gpi6_pmpm_ct_t_6-3-0m_b4'] = humana_data_test['rx_overall_dist_gpi6_pmpm_ct_t_6-3-0m_b4'].astype('category')\n",
        "humana_data_test['hum_region'] = humana_data_test['hum_region'].astype('category')\n",
        "humana_data_test['sex_cd'] = humana_data_test['sex_cd'].astype('category')\n",
        "humana_data_test['cons_hhcomp'] = humana_data_test['cons_hhcomp'].astype('category')\n",
        "humana_data_test['total_physician_office_visit_ct_pmpm_t_6-3-0m_b4'] = humana_data_test['total_physician_office_visit_ct_pmpm_t_6-3-0m_b4'].astype('category')\n",
        "humana_data_test['rx_overall_gpi_pmpm_ct_t_6-3-0m_b4'] = humana_data_test['rx_overall_gpi_pmpm_ct_t_6-3-0m_b4'].astype('category')\n"
      ],
      "execution_count": null,
      "outputs": []
    },
    {
      "cell_type": "code",
      "metadata": {
        "id": "G1OYlQ8hNhTy"
      },
      "source": [
        "# assign categorical variables - Test data\n",
        "\n",
        "humana_data_test['rx_gpi2_17_pmpm_cost_t_12-9-6m_b4'] = humana_data_test['rx_gpi2_17_pmpm_cost_t_12-9-6m_b4'].cat.codes\n",
        "humana_data_test['rx_overall_dist_gpi6_pmpm_ct_t_6-3-0m_b4'] = humana_data_test['rx_overall_dist_gpi6_pmpm_ct_t_6-3-0m_b4'].cat.codes\n",
        "humana_data_test['rx_overall_gpi_pmpm_ct_t_6-3-0m_b4'] = humana_data_test['rx_overall_gpi_pmpm_ct_t_6-3-0m_b4'].cat.codes\n",
        "humana_data_test['hum_region'] = humana_data_test['hum_region'].cat.codes\n",
        "humana_data_test['sex_cd'] = humana_data_test['sex_cd'].cat.codes\n",
        "humana_data_test['cons_hhcomp'] = humana_data_test['cons_hhcomp'].cat.codes\n",
        "humana_data_test['total_physician_office_visit_ct_pmpm_t_6-3-0m_b4'] = humana_data_test['total_physician_office_visit_ct_pmpm_t_6-3-0m_b4'].cat.codes\n",
        "humana_data_test['rx_gpi4_6110_pmpm_ct']= pd.to_numeric(humana_data_test['rx_gpi4_6110_pmpm_ct'], downcast=\"float\")\n",
        "humana_data_test['rx_gpi2_72_pmpm_ct_6to9m_b4']= pd.to_numeric(humana_data_test['rx_gpi2_72_pmpm_ct_6to9m_b4'], downcast=\"float\")\n",
        "humana_data_test['rx_overall_gpi_pmpm_ct_t_6-3-0m_b4'] = humana_data_test['rx_overall_gpi_pmpm_ct_t_6-3-0m_b4'].astype('category')\n"
      ],
      "execution_count": null,
      "outputs": []
    },
    {
      "cell_type": "code",
      "metadata": {
        "id": "1MMfK-36Nhjh"
      },
      "source": [
        "# drop ID column from training dataset\n",
        "\n",
        "humana_data.drop(['ID'],axis=1, inplace=True)"
      ],
      "execution_count": null,
      "outputs": []
    },
    {
      "cell_type": "code",
      "metadata": {
        "id": "85lxNC5kNhpK"
      },
      "source": [
        "# drop ID column from test dataset\n",
        "\n",
        "humana_data_test.drop(['ID'],axis=1, inplace=True) "
      ],
      "execution_count": null,
      "outputs": []
    },
    {
      "cell_type": "code",
      "metadata": {
        "id": "w9R8zw0JNhvI"
      },
      "source": [
        "# converting covid vaccination column to binary\n",
        "\n",
        "humana_data['covid_vaccination'] = humana_data['covid_vaccination'].apply(lambda x: 1 if x == 'vacc' else 0)"
      ],
      "execution_count": null,
      "outputs": []
    },
    {
      "cell_type": "markdown",
      "metadata": {
        "id": "DB5vJd19RvEX"
      },
      "source": [
        "# Feature Selection"
      ]
    },
    {
      "cell_type": "code",
      "metadata": {
        "id": "rbV8UIeWNh03"
      },
      "source": [
        "# selecting subset from training dataset\n",
        "\n",
        "humana_data_selected = humana_data[['credit_hh_nonmtgcredit_60dpd','credit_hh_bankcardcredit_60dpd','rx_overall_gpi_pmpm_ct_0to3m_b4','rx_overall_gpi_pmpm_ct_t_6-3-0m_b4','rwjf_uninsured_pct','bh_ip_snf_net_paid_pmpm_cost','credit_hh_bankcard_severederog','phy_em_px_pct','atlas_percapitainc','rwjf_uninsured_adults_pct','rx_generic_mbr_resp_pmpm_cost_0to3m_b4','cms_tot_partd_payment_amt','rx_nonbh_mbr_resp_pmpm_cost','credit_num_agencyfirstmtg','rx_days_since_last_script','rwjf_uninsured_child_pct','credit_bal_mtgcredit_new','atlas_pct_diabetes_adults13','atlas_pct_laccess_nhasian15','atlas_deep_pov_all','atlas_deep_pov_children','atlas_foodinsec_child_03_11','rwjf_mv_deaths_rate','cons_nwperadult','cms_orig_reas_entitle_cd','med_physician_office_ds_clm_6to9m_b4','rx_generic_mbr_resp_pmpm_cost','rx_gpi4_3400_pmpm_ct','atlas_pct_nslp15','rx_generic_pmpm_ct_0to3m_b4','rx_overall_mbr_resp_pmpm_cost_0to3m_b4','rx_tier_2_pmpm_ct_3to6m_b4','rx_maint_pmpm_ct_9to12m_b4','cms_risk_adjustment_factor_a_amt','rx_generic_pmpm_cost','rx_days_since_last_script_0to3m_b4','credit_num_autofinance','rx_maint_mbr_resp_pmpm_cost_6to9m_b4','rej_days_since_last_clm','rx_generic_pmpm_cost_6to9m_b4','rx_nonbh_pmpm_ct_0to3m_b4','atlas_povertyunder18pct','cons_estinv30_rc','rx_gpi2_34_pmpm_ct','atlas_pct_cacfp15','pdc_lip','rx_tier_2_pmpm_ct','cons_n2pwh','credit_hh_1stmtgcredit','credit_num_nonmtgcredit_60dpd','cons_cgqs','atlas_medhhinc','rwjf_mental_distress_pct','cons_chva','cons_lwcm07','race_cd','days_since_last_clm_0to3m_b4','atlas_avghhsize','credit_num_consumerfinance_new','rx_days_since_last_script_6to9m_b4','ccsp_227_pct','rwjf_men_hlth_prov_ratio','credit_bal_autofinance_new','atlas_foodinsec_13_15','met_obe_diag_pct','rx_tier_1_pmpm_ct_0to3m_b4','credit_bal_bankcard_severederog','atlas_pc_ffrsales12','atlas_pct_sbp15','atlas_convspth14','atlas_pct_loclfarm12','rx_branded_mbr_resp_pmpm_cost','atlas_low_employment_2015_update','atlas_povertyallagespct','rwjf_inactivity_pct','rx_nonbh_mbr_resp_pmpm_cost_6to9m_b4','rx_nonotc_dist_gpi6_pmpm_ct','est_age','rx_hum_16_pmpm_ct','atlas_pct_wic15','rx_mail_mbr_resp_pmpm_cost_0to3m_b4','credit_bal_consumerfinance','atlas_hiamenity','atlas_pct_laccess_hhnv15','atlas_pct_laccess_hisp15','rx_nonmaint_mbr_resp_pmpm_cost_9to12m_b4','atlas_pct_laccess_snap15','atlas_fsrpth14','credit_bal_nonmtgcredit_60dpd','atlas_pc_snapben15','atlas_recfacpth14','covid_vaccination']]\n"
      ],
      "execution_count": null,
      "outputs": []
    },
    {
      "cell_type": "code",
      "metadata": {
        "id": "TBECPXrwNh58"
      },
      "source": [
        "# selecting subset from test dataset\n",
        "\n",
        "humana_data_selected_test = humana_data_test[['credit_hh_nonmtgcredit_60dpd','credit_hh_bankcardcredit_60dpd','rx_overall_gpi_pmpm_ct_0to3m_b4','rx_overall_gpi_pmpm_ct_t_6-3-0m_b4','rwjf_uninsured_pct','bh_ip_snf_net_paid_pmpm_cost','credit_hh_bankcard_severederog','phy_em_px_pct','atlas_percapitainc','rwjf_uninsured_adults_pct','rx_generic_mbr_resp_pmpm_cost_0to3m_b4','cms_tot_partd_payment_amt','rx_nonbh_mbr_resp_pmpm_cost','credit_num_agencyfirstmtg','rx_days_since_last_script','rwjf_uninsured_child_pct','credit_bal_mtgcredit_new','atlas_pct_diabetes_adults13','atlas_pct_laccess_nhasian15','atlas_deep_pov_all','atlas_deep_pov_children','atlas_foodinsec_child_03_11','rwjf_mv_deaths_rate','cons_nwperadult','cms_orig_reas_entitle_cd','med_physician_office_ds_clm_6to9m_b4','rx_generic_mbr_resp_pmpm_cost','rx_gpi4_3400_pmpm_ct','atlas_pct_nslp15','rx_generic_pmpm_ct_0to3m_b4','rx_overall_mbr_resp_pmpm_cost_0to3m_b4','rx_tier_2_pmpm_ct_3to6m_b4','rx_maint_pmpm_ct_9to12m_b4','cms_risk_adjustment_factor_a_amt','rx_generic_pmpm_cost','rx_days_since_last_script_0to3m_b4','credit_num_autofinance','rx_maint_mbr_resp_pmpm_cost_6to9m_b4','rej_days_since_last_clm','rx_generic_pmpm_cost_6to9m_b4','rx_nonbh_pmpm_ct_0to3m_b4','atlas_povertyunder18pct','cons_estinv30_rc','rx_gpi2_34_pmpm_ct','atlas_pct_cacfp15','pdc_lip','rx_tier_2_pmpm_ct','cons_n2pwh','credit_hh_1stmtgcredit','credit_num_nonmtgcredit_60dpd','cons_cgqs','atlas_medhhinc','rwjf_mental_distress_pct','cons_chva','cons_lwcm07','race_cd','days_since_last_clm_0to3m_b4','atlas_avghhsize','credit_num_consumerfinance_new','rx_days_since_last_script_6to9m_b4','ccsp_227_pct','rwjf_men_hlth_prov_ratio','credit_bal_autofinance_new','atlas_foodinsec_13_15','met_obe_diag_pct','rx_tier_1_pmpm_ct_0to3m_b4','credit_bal_bankcard_severederog','atlas_pc_ffrsales12','atlas_pct_sbp15','atlas_convspth14','atlas_pct_loclfarm12','rx_branded_mbr_resp_pmpm_cost','atlas_low_employment_2015_update','atlas_povertyallagespct','rwjf_inactivity_pct','rx_nonbh_mbr_resp_pmpm_cost_6to9m_b4','rx_nonotc_dist_gpi6_pmpm_ct','est_age','rx_hum_16_pmpm_ct','atlas_pct_wic15','rx_mail_mbr_resp_pmpm_cost_0to3m_b4','credit_bal_consumerfinance','atlas_hiamenity','atlas_pct_laccess_hhnv15','atlas_pct_laccess_hisp15','rx_nonmaint_mbr_resp_pmpm_cost_9to12m_b4','atlas_pct_laccess_snap15','atlas_fsrpth14','credit_bal_nonmtgcredit_60dpd','atlas_pc_snapben15','atlas_recfacpth14']]\n"
      ],
      "execution_count": null,
      "outputs": []
    },
    {
      "cell_type": "code",
      "metadata": {
        "colab": {
          "base_uri": "https://localhost:8080/"
        },
        "id": "bmNwNu_TNh--",
        "outputId": "5c780a2e-66e2-4464-d8e5-b73977fdb896"
      },
      "source": [
        "# Select Features\n",
        "feature = humana_data_selected.drop('covid_vaccination', axis=1)\n",
        "\n",
        "# Select Target\n",
        "target = humana_data_selected['covid_vaccination']\n",
        "\n",
        "# Set Training and Testing Data\n",
        "from sklearn.model_selection import train_test_split\n",
        "X_train, X_test, y_train, y_test = train_test_split(feature , target, \n",
        "                                                    shuffle = True, \n",
        "                                                    test_size=0.2, \n",
        "                                                    random_state=101)\n",
        "\n",
        "# Show the Training and Testing Data\n",
        "print('Shape of training feature:', X_train.shape)\n",
        "print('Shape of testing feature:', X_test.shape)\n",
        "print('Shape of training label:', y_train.shape)\n",
        "print('Shape of training label:', y_test.shape)"
      ],
      "execution_count": null,
      "outputs": [
        {
          "output_type": "stream",
          "name": "stdout",
          "text": [
            "Shape of training feature: (779873, 91)\n",
            "Shape of testing feature: (194969, 91)\n",
            "Shape of training label: (779873,)\n",
            "Shape of training label: (194969,)\n"
          ]
        }
      ]
    },
    {
      "cell_type": "markdown",
      "metadata": {
        "id": "-UJh41RBSGQ5"
      },
      "source": [
        "# Model Building"
      ]
    },
    {
      "cell_type": "code",
      "metadata": {
        "id": "bbWh9e5bNiE5"
      },
      "source": [
        "# Defining function for metrics evaluation\n",
        "\n",
        "def evaluate_model(model, x_test, y_test):\n",
        "    from sklearn import metrics\n",
        "\n",
        "    # Predict Test Data \n",
        "    y_pred = model.predict(x_test)\n",
        "\n",
        "    # Calculate accuracy, precision, recall, f1-score, and kappa score\n",
        "    acc = metrics.accuracy_score(y_test, y_pred)\n",
        "    prec = metrics.precision_score(y_test, y_pred)\n",
        "    rec = metrics.recall_score(y_test, y_pred)\n",
        "    f1 = metrics.f1_score(y_test, y_pred)\n",
        "    kappa = metrics.cohen_kappa_score(y_test, y_pred)\n",
        "\n",
        "    # Calculate area under curve (AUC)\n",
        "    y_pred_proba = model.predict_proba(x_test)[::,1]\n",
        "    fpr, tpr, _ = metrics.roc_curve(y_test, y_pred_proba)\n",
        "    auc = metrics.roc_auc_score(y_test, y_pred_proba)\n",
        "\n",
        "    # Display confussion matrix\n",
        "    cm = metrics.confusion_matrix(y_test, y_pred)\n",
        "\n",
        "    return {'acc': acc, 'prec': prec, 'rec': rec, 'f1': f1, 'kappa': kappa, \n",
        "            'fpr': fpr, 'tpr': tpr, 'auc': auc, 'cm': cm}"
      ],
      "execution_count": null,
      "outputs": []
    },
    {
      "cell_type": "code",
      "metadata": {
        "colab": {
          "base_uri": "https://localhost:8080/"
        },
        "id": "e0s8-yY6NiJS",
        "outputId": "6f2c10f1-3f89-4f65-8745-04613382d9ba"
      },
      "source": [
        "from sklearn.ensemble import RandomForestClassifier\n",
        "\n",
        "# Building Random Forest model \n",
        "rf = RandomForestClassifier(random_state=101, n_estimators = 130, max_depth=10, max_features=0.6)\n",
        "rf.fit(X_train, y_train)"
      ],
      "execution_count": null,
      "outputs": [
        {
          "output_type": "execute_result",
          "data": {
            "text/plain": [
              "RandomForestClassifier(max_depth=10, max_features=0.6, n_estimators=130,\n",
              "                       random_state=101)"
            ]
          },
          "metadata": {},
          "execution_count": 32
        }
      ]
    },
    {
      "cell_type": "markdown",
      "metadata": {
        "id": "GI_JqU95SZXL"
      },
      "source": [
        "# Model Evaluation"
      ]
    },
    {
      "cell_type": "code",
      "metadata": {
        "id": "mCIc-UmbNiOj",
        "colab": {
          "base_uri": "https://localhost:8080/"
        },
        "outputId": "6ae3c37c-c87c-454a-f3c4-f7c22ea83b3d"
      },
      "source": [
        "# Evaluate Model\n",
        "\n",
        "rf_eval = evaluate_model(rf, X_test, y_test)\n",
        "\n",
        "# Print result\n",
        "print('Accuracy:', rf_eval['acc'])\n",
        "print('Precision:', rf_eval['prec'])\n",
        "print('Recall:', rf_eval['rec'])\n",
        "print('F1 Score:', rf_eval['f1'])\n",
        "print('Cohens Kappa Score:', rf_eval['kappa'])\n",
        "print('Area Under Curve:', rf_eval['auc'])\n",
        "print('Confusion Matrix:\\n', rf_eval['cm'])\n"
      ],
      "execution_count": 33,
      "outputs": [
        {
          "output_type": "stream",
          "name": "stdout",
          "text": [
            "Accuracy: 0.8263826557042402\n",
            "Precision: 0.8333333333333334\n",
            "Recall: 0.000147693034796479\n",
            "F1 Score: 0.00029533372711163615\n",
            "Cohens Kappa Score: 0.00023381077543693785\n",
            "Area Under Curve: 0.665708480384912\n",
            "Confusion Matrix:\n",
            " [[161114      1]\n",
            " [ 33849      5]]\n"
          ]
        }
      ]
    },
    {
      "cell_type": "code",
      "metadata": {
        "id": "idM2_u5bSc0w",
        "colab": {
          "base_uri": "https://localhost:8080/",
          "height": 493
        },
        "outputId": "8f25db3a-9668-4a84-c683-35a557c8beda"
      },
      "source": [
        "# Intitialize figure with two plots\n",
        "fig, (ax1, ax2) = plt.subplots(1, 2)\n",
        "fig.suptitle('Model Comparison', fontsize=16, fontweight='bold')\n",
        "fig.set_figheight(7)\n",
        "fig.set_figwidth(14)\n",
        "fig.set_facecolor('white')\n",
        "\n",
        "# First plot\n",
        "## set bar size\n",
        "barWidth = 0.2\n",
        "rf_score = [rf_eval['acc'], rf_eval['prec'], rf_eval['rec'], rf_eval['f1'], rf_eval['kappa']]\n",
        "\n",
        "## Set position of bar on X axis\n",
        "r1 = np.arange(len(rf_score))\n",
        "\n",
        "## Make the plot\n",
        "\n",
        "ax1.bar(r1, rf_score, width=barWidth, edgecolor='white', label='Random Forest')\n",
        "\n",
        "## Configure x and y axis\n",
        "ax1.set_xlabel('Metrics', fontweight='bold')\n",
        "labels = ['Accuracy', 'Precision', 'Recall', 'F1', 'Kappa']\n",
        "ax1.set_xticks([r + (barWidth * 1.5) for r in range(len(rf_score))], )\n",
        "ax1.set_xticklabels(labels)\n",
        "ax1.set_ylabel('Score', fontweight='bold')\n",
        "ax1.set_ylim(0, 1)\n",
        "\n",
        "## Create legend & title\n",
        "ax1.set_title('Evaluation Metrics', fontsize=14, fontweight='bold')\n",
        "ax1.legend()\n",
        "\n",
        "# Second plot\n",
        "## Comparing ROC Curve\n",
        "\n",
        "ax2.plot(rf_eval['fpr'], rf_eval['tpr'], label='Random Forest, auc = {:0.5f}'.format(rf_eval['auc']))\n",
        "\n",
        "## Configure x and y axis\n",
        "ax2.set_xlabel('False Positive Rate', fontweight='bold')\n",
        "ax2.set_ylabel('True Positive Rate', fontweight='bold')\n",
        "\n",
        "## Create legend & title\n",
        "ax2.set_title('ROC Curve', fontsize=14, fontweight='bold')\n",
        "ax2.legend(loc=4)\n",
        "\n",
        "plt.show()\n"
      ],
      "execution_count": 34,
      "outputs": [
        {
          "output_type": "display_data",
          "data": {
            "image/png": "[encoded data removed]",
            "text/plain": [
              "<Figure size 1008x504 with 2 Axes>"
            ]
          },
          "metadata": {}
        }
      ]
    },
    {
      "cell_type": "markdown",
      "metadata": {
        "id": "Zpjw0nNTSuFt"
      },
      "source": [
        "# Predicting outcome"
      ]
    },
    {
      "cell_type": "code",
      "metadata": {
        "id": "XH1WjDQRSc7H"
      },
      "source": [
        "# predicting outcome - Random Forest\n",
        "\n",
        "prob = rf.predict_proba(humana_data_selected_test)"
      ],
      "execution_count": 36,
      "outputs": []
    },
    {
      "cell_type": "code",
      "metadata": {
        "id": "jZAK1NAaSdAi",
        "colab": {
          "base_uri": "https://localhost:8080/"
        },
        "outputId": "06f906c7-749b-4d0f-a253-db12e8d9be16"
      },
      "source": [
        "# checking shape\n",
        "\n",
        "prob.shape"
      ],
      "execution_count": 37,
      "outputs": [
        {
          "output_type": "execute_result",
          "data": {
            "text/plain": [
              "(525158, 2)"
            ]
          },
          "metadata": {},
          "execution_count": 37
        }
      ]
    },
    {
      "cell_type": "code",
      "metadata": {
        "id": "LGeGAR0XSdF9"
      },
      "source": [
        "# converting to dataframe\n",
        "\n",
        "prediction_prob = pd.DataFrame(prob, columns = ['Prob_0_no_vacc','Prob_1_vacc'])\n"
      ],
      "execution_count": 38,
      "outputs": []
    },
    {
      "cell_type": "code",
      "metadata": {
        "id": "NF6mgV5nSdQl",
        "colab": {
          "base_uri": "https://localhost:8080/",
          "height": 204
        },
        "outputId": "3362684c-0634-463f-a1cf-700e63971371"
      },
      "source": [
        "# checking head of final prediction\n",
        "\n",
        "prediction_prob.head()\n"
      ],
      "execution_count": 39,
      "outputs": [
        {
          "output_type": "execute_result",
          "data": {
            "text/html": [
              "<div>\n",
              "<style scoped>\n",
              "    .dataframe tbody tr th:only-of-type {\n",
              "        vertical-align: middle;\n",
              "    }\n",
              "\n",
              "    .dataframe tbody tr th {\n",
              "        vertical-align: top;\n",
              "    }\n",
              "\n",
              "    .dataframe thead th {\n",
              "        text-align: right;\n",
              "    }\n",
              "</style>\n",
              "<table border=\"1\" class=\"dataframe\">\n",
              "  <thead>\n",
              "    <tr style=\"text-align: right;\">\n",
              "      <th></th>\n",
              "      <th>Prob_0_no_vacc</th>\n",
              "      <th>Prob_1_vacc</th>\n",
              "    </tr>\n",
              "  </thead>\n",
              "  <tbody>\n",
              "    <tr>\n",
              "      <th>0</th>\n",
              "      <td>0.894436</td>\n",
              "      <td>0.105564</td>\n",
              "    </tr>\n",
              "    <tr>\n",
              "      <th>1</th>\n",
              "      <td>0.939367</td>\n",
              "      <td>0.060633</td>\n",
              "    </tr>\n",
              "    <tr>\n",
              "      <th>2</th>\n",
              "      <td>0.822808</td>\n",
              "      <td>0.177192</td>\n",
              "    </tr>\n",
              "    <tr>\n",
              "      <th>3</th>\n",
              "      <td>0.807147</td>\n",
              "      <td>0.192853</td>\n",
              "    </tr>\n",
              "    <tr>\n",
              "      <th>4</th>\n",
              "      <td>0.777594</td>\n",
              "      <td>0.222406</td>\n",
              "    </tr>\n",
              "  </tbody>\n",
              "</table>\n",
              "</div>"
            ],
            "text/plain": [
              "   Prob_0_no_vacc  Prob_1_vacc\n",
              "0        0.894436     0.105564\n",
              "1        0.939367     0.060633\n",
              "2        0.822808     0.177192\n",
              "3        0.807147     0.192853\n",
              "4        0.777594     0.222406"
            ]
          },
          "metadata": {},
          "execution_count": 39
        }
      ]
    },
    {
      "cell_type": "code",
      "metadata": {
        "id": "CB0hI52GSdVT"
      },
      "source": [
        ""
      ],
      "execution_count": null,
      "outputs": []
    }
  ]
}